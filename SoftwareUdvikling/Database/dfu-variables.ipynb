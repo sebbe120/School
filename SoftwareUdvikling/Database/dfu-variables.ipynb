{
    "metadata": {
        "kernelspec": {
            "name": "SQL",
            "display_name": "SQL",
            "language": "sql"
        },
        "language_info": {
            "name": "sql",
            "version": ""
        }
    },
    "nbformat_minor": 2,
    "nbformat": 4,
    "cells": [
        {
            "cell_type": "markdown",
            "source": [
                "Reset and prepare"
            ],
            "metadata": {
                "azdata_cell_guid": "58bece08-62df-4c46-aefc-7be1b92e0493"
            },
            "attachments": {}
        },
        {
            "cell_type": "code",
            "source": [
                "USE master;\n",
                "GO\n",
                "DROP DATABASE IF EXISTS [dfu23e_variables];\n",
                "GO\n",
                "CREATE DATABASE [dfu23e_variables];\n",
                "GO\n",
                "USE [dfu23e_variables];"
            ],
            "metadata": {
                "azdata_cell_guid": "24098cd3-3abd-4cf6-9fae-273e0149e02c",
                "language": "sql"
            },
            "outputs": [
                {
                    "output_type": "display_data",
                    "data": {
                        "text/html": "Commands completed successfully."
                    },
                    "metadata": {}
                },
                {
                    "output_type": "display_data",
                    "data": {
                        "text/html": "Commands completed successfully."
                    },
                    "metadata": {}
                },
                {
                    "output_type": "display_data",
                    "data": {
                        "text/html": "Commands completed successfully."
                    },
                    "metadata": {}
                },
                {
                    "output_type": "display_data",
                    "data": {
                        "text/html": "Commands completed successfully."
                    },
                    "metadata": {}
                },
                {
                    "output_type": "display_data",
                    "data": {
                        "text/html": "Total execution time: 00:00:00.345"
                    },
                    "metadata": {}
                }
            ],
            "execution_count": 1
        },
        {
            "cell_type": "markdown",
            "source": [
                "Basic variable + (PRINT)"
            ],
            "metadata": {
                "language": "sql",
                "azdata_cell_guid": "48adc1df-2b27-4dfa-a8c5-13bc3fb7fff0"
            },
            "attachments": {}
        },
        {
            "cell_type": "code",
            "source": [
                "DECLARE @myVar AS NVARCHAR(100) = 'Hello, World';\n",
                "PRINT @myVar;"
            ],
            "metadata": {
                "azdata_cell_guid": "7301a264-c9e9-4075-bb35-8e28f6941d22",
                "language": "sql"
            },
            "outputs": [
                {
                    "output_type": "display_data",
                    "data": {
                        "text/html": "Hello, World"
                    },
                    "metadata": {}
                },
                {
                    "output_type": "display_data",
                    "data": {
                        "text/html": "Total execution time: 00:00:00"
                    },
                    "metadata": {}
                }
            ],
            "execution_count": 2
        },
        {
            "cell_type": "markdown",
            "source": [
                "Basic variable + (SELECT)"
            ],
            "metadata": {
                "language": "sql",
                "azdata_cell_guid": "5cf0162c-27ea-449d-9168-2e31b91e212c"
            },
            "attachments": {}
        },
        {
            "cell_type": "code",
            "source": [
                "DECLARE @myVar AS NVARCHAR(100) = 'Hello, World';\n",
                "SELECT @myVar;"
            ],
            "metadata": {
                "azdata_cell_guid": "e115fd0c-fa58-4e90-8422-f00c09b35d07",
                "language": "sql",
                "tags": []
            },
            "outputs": [
                {
                    "output_type": "display_data",
                    "data": {
                        "text/html": "(1 row affected)"
                    },
                    "metadata": {}
                },
                {
                    "output_type": "display_data",
                    "data": {
                        "text/html": "Total execution time: 00:00:00.004"
                    },
                    "metadata": {}
                },
                {
                    "output_type": "execute_result",
                    "execution_count": 3,
                    "data": {
                        "application/vnd.dataresource+json": {
                            "schema": {
                                "fields": [
                                    {
                                        "name": "(No column name)"
                                    }
                                ]
                            },
                            "data": [
                                {
                                    "(No column name)": "Hello, World"
                                }
                            ]
                        },
                        "text/html": "<table><tr><th>(No column name)</th></tr><tr><td>Hello, World</td></tr></table>"
                    },
                    "metadata": {}
                }
            ],
            "execution_count": 3
        },
        {
            "cell_type": "markdown",
            "source": [
                "Basic variable + (SELECT AS name)"
            ],
            "metadata": {
                "language": "sql",
                "azdata_cell_guid": "d35b2ccc-b103-48fb-8a12-344463418921"
            },
            "attachments": {}
        },
        {
            "cell_type": "code",
            "source": [
                "DECLARE @myVar AS NVARCHAR(100) = 'Hello, World';\n",
                "SELECT @myVar AS [fieldName];"
            ],
            "metadata": {
                "language": "sql",
                "azdata_cell_guid": "a760a6ed-ff66-440c-9074-41219af1c730"
            },
            "outputs": [
                {
                    "output_type": "display_data",
                    "data": {
                        "text/html": "(1 row affected)"
                    },
                    "metadata": {}
                },
                {
                    "output_type": "display_data",
                    "data": {
                        "text/html": "Total execution time: 00:00:00.001"
                    },
                    "metadata": {}
                },
                {
                    "output_type": "execute_result",
                    "execution_count": 4,
                    "data": {
                        "application/vnd.dataresource+json": {
                            "schema": {
                                "fields": [
                                    {
                                        "name": "fieldName"
                                    }
                                ]
                            },
                            "data": [
                                {
                                    "fieldName": "Hello, World"
                                }
                            ]
                        },
                        "text/html": "<table><tr><th>fieldName</th></tr><tr><td>Hello, World</td></tr></table>"
                    },
                    "metadata": {}
                }
            ],
            "execution_count": 4
        },
        {
            "cell_type": "markdown",
            "source": [
                "Basic variable with error"
            ],
            "metadata": {
                "language": "sql",
                "azdata_cell_guid": "1d9080f9-496f-4238-ac1e-9dd5ed8dacf5"
            },
            "attachments": {}
        },
        {
            "cell_type": "code",
            "source": [
                "DECLARE @myVar AS NVARCHAR(100) = 'Hello, World';\n",
                "GO\n",
                "\n",
                "PRINT @myVar"
            ],
            "metadata": {
                "azdata_cell_guid": "3898e3d1-71cb-4ce0-bf84-5d208ea68e55",
                "language": "sql"
            },
            "outputs": [
                {
                    "output_type": "display_data",
                    "data": {
                        "text/html": "Commands completed successfully."
                    },
                    "metadata": {}
                },
                {
                    "output_type": "error",
                    "ename": "",
                    "evalue": "Msg 137, Level 15, State 2, Line 4\nMust declare the scalar variable \"@myVar\".",
                    "traceback": []
                },
                {
                    "output_type": "display_data",
                    "data": {
                        "text/html": "Total execution time: 00:00:00"
                    },
                    "metadata": {}
                }
            ],
            "execution_count": 5
        },
        {
            "cell_type": "markdown",
            "source": [
                "Variable with tables"
            ],
            "metadata": {
                "language": "sql",
                "azdata_cell_guid": "1c5d8657-9898-4ef5-9bf5-08b424db4813"
            },
            "attachments": {}
        },
        {
            "cell_type": "code",
            "source": [
                "DROP TABLE IF EXISTS [books];\n",
                "CREATE TABLE [books] (\n",
                "    [id] INT NOT NULL IDENTITY(1, 1) PRIMARY KEY,\n",
                "    [title] NVARCHAR(100) NOT NULL,\n",
                "    [author] NVARCHAR(100) NOT NULL\n",
                ")\n",
                "\n",
                "DECLARE @myTable AS TABLE (\n",
                "    [id] INT NOT NULL IDENTITY(1, 1) PRIMARY KEY,\n",
                "    [title] NVARCHAR(100) NOT NULL,\n",
                "    [author] NVARCHAR(100) NOT NULL\n",
                ")\n",
                "\n",
                "INSERT INTO @myTable VALUES\n",
                "    ('The Hot Zone', 'Richar Preston'),\n",
                "    ('Could Storage', 'David Koepp')\n",
                "\n",
                "\n",
                "SELECT * FROM @myTable;\n",
                "\n",
                "SELECT * FROM [books];\n",
                "\n",
                "INSERT INTO [books] ([title], [author])\n",
                "    SELECT [title], [author] FROM @myTable;\n",
                "\n",
                "SELECT * FROM [books];\n",
                "\n",
                "TRUNCATE TABLE [books];\n",
                "\n",
                "INSERT INTO [books] ([author], [title])\n",
                "    SELECT [title], [author] FROM @myTable;\n",
                "\n",
                "SELECT * FROM [books];\n",
                ""
            ],
            "metadata": {
                "azdata_cell_guid": "b2defc0c-b8aa-439e-bf82-a3941e62c353",
                "language": "sql",
                "tags": []
            },
            "outputs": [],
            "execution_count": null
        },
        {
            "cell_type": "markdown",
            "source": [
                "Assign data from table to variable"
            ],
            "metadata": {
                "language": "sql",
                "azdata_cell_guid": "58e7aac6-cd21-41e1-b132-0a4750e3ebd6"
            },
            "attachments": {}
        },
        {
            "cell_type": "code",
            "source": [
                "DROP TABLE IF EXISTS [users];\n",
                "\n",
                "CREATE TABLE [users] (\n",
                "    [id] INT NOT NULL IDENTITY(313, 1) PRIMARY KEY,\n",
                "    [name] NVARCHAR(100) NOT NULL,\n",
                ");\n",
                "\n",
                "INSERT INTO [users] VALUES ('Stony Brooks');\n",
                "\n",
                "DECLARE @name NVARCHAR(100);\n",
                "\n",
                "SELECT @name = [name] FROM [users] WHERE [id] = 313;\n",
                "\n",
                "PRINT @name;"
            ],
            "metadata": {
                "language": "sql",
                "azdata_cell_guid": "9ed2596b-5fdf-4580-a0aa-f8820a1d033a"
            },
            "outputs": [],
            "execution_count": null
        }
    ]
}