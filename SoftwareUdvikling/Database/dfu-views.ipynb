{
    "metadata": {
        "kernelspec": {
            "name": "SQL",
            "display_name": "SQL",
            "language": "sql"
        },
        "language_info": {
            "name": "sql",
            "version": ""
        }
    },
    "nbformat_minor": 2,
    "nbformat": 4,
    "cells": [
        {
            "cell_type": "markdown",
            "source": [
                "Prepare"
            ],
            "metadata": {
                "azdata_cell_guid": "145f5b56-482d-4f29-ae35-5d48c5db92b2"
            },
            "attachments": {}
        },
        {
            "cell_type": "code",
            "source": [
                "USE master;\n",
                "GO\n",
                "DROP DATABASE IF EXISTS [dfu23e_views];\n",
                "GO\n",
                "CREATE DATABASE [dfu23e_views];\n",
                "GO\n",
                "USE [dfu23e_views];"
            ],
            "metadata": {
                "azdata_cell_guid": "98ea1db8-45d9-4072-be88-0802ffd57172",
                "language": "sql"
            },
            "outputs": [
                {
                    "output_type": "display_data",
                    "data": {
                        "text/html": "Commands completed successfully."
                    },
                    "metadata": {}
                },
                {
                    "output_type": "display_data",
                    "data": {
                        "text/html": "Commands completed successfully."
                    },
                    "metadata": {}
                },
                {
                    "output_type": "display_data",
                    "data": {
                        "text/html": "Commands completed successfully."
                    },
                    "metadata": {}
                },
                {
                    "output_type": "display_data",
                    "data": {
                        "text/html": "Commands completed successfully."
                    },
                    "metadata": {}
                },
                {
                    "output_type": "display_data",
                    "data": {
                        "text/html": "Total execution time: 00:00:00.327"
                    },
                    "metadata": {}
                }
            ],
            "execution_count": 1
        },
        {
            "cell_type": "markdown",
            "source": [
                "Setup tables"
            ],
            "metadata": {
                "language": "sql",
                "azdata_cell_guid": "8aaf3efc-f935-4427-b351-634bc083f11d"
            },
            "attachments": {}
        },
        {
            "cell_type": "code",
            "source": [
                "DROP TABLE IF EXISTS Employees;\n",
                "DROP TABLE IF EXISTS Departments;\n",
                "GO\n",
                "\n",
                "CREATE TABLE Employees (\n",
                "    EmployeeID INT PRIMARY KEY,\n",
                "    FirstName NVARCHAR(50),\n",
                "    LastName NVARCHAR(50),\n",
                "    DepartmentID INT\n",
                ");\n",
                "\n",
                "CREATE TABLE Departments (\n",
                "    DepartmentID INT PRIMARY KEY,\n",
                "    DepartmentName NVARCHAR(50)\n",
                ");\n",
                "GO\n",
                "\n",
                "INSERT INTO Departments (DepartmentID, DepartmentName)\n",
                "VALUES\n",
                "    (1, 'HR'),\n",
                "    (2, 'Finance'),\n",
                "    (3, 'IT');\n",
                "\n",
                "INSERT INTO Employees (EmployeeID, FirstName, LastName, DepartmentID)\n",
                "VALUES\n",
                "    (1, 'John', 'Doe', 1),\n",
                "    (2, 'Jane', 'Smith', 2),\n",
                "    (3, 'Bob', 'Johnson', 1),\n",
                "    (4, 'Alice', 'Williams', 3);"
            ],
            "metadata": {
                "language": "sql",
                "azdata_cell_guid": "ed464fc1-c3f9-449f-90ff-842858646f6b"
            },
            "outputs": [
                {
                    "output_type": "display_data",
                    "data": {
                        "text/html": "Commands completed successfully."
                    },
                    "metadata": {}
                },
                {
                    "output_type": "display_data",
                    "data": {
                        "text/html": "Commands completed successfully."
                    },
                    "metadata": {}
                },
                {
                    "output_type": "display_data",
                    "data": {
                        "text/html": "(3 rows affected)"
                    },
                    "metadata": {}
                },
                {
                    "output_type": "display_data",
                    "data": {
                        "text/html": "(4 rows affected)"
                    },
                    "metadata": {}
                },
                {
                    "output_type": "display_data",
                    "data": {
                        "text/html": "Total execution time: 00:00:00.030"
                    },
                    "metadata": {}
                }
            ],
            "execution_count": 2
        },
        {
            "cell_type": "markdown",
            "source": [
                "Create view"
            ],
            "metadata": {
                "language": "sql",
                "azdata_cell_guid": "503338cd-3942-47e2-bb45-a71c983ce92e"
            },
            "attachments": {}
        },
        {
            "cell_type": "code",
            "source": [
                "CREATE VIEW EmployeeDetails AS\n",
                "SELECT\n",
                "    E.EmployeeID,\n",
                "    E.FirstName,\n",
                "    E.LastName,\n",
                "    D.DepartmentName\n",
                "FROM\n",
                "    Employees E\n",
                "JOIN\n",
                "    Departments D ON E.DepartmentID = D.DepartmentID;"
            ],
            "metadata": {
                "language": "sql",
                "azdata_cell_guid": "5ccd4291-6dd2-4952-8cb1-f2864a4345af"
            },
            "outputs": [
                {
                    "output_type": "display_data",
                    "data": {
                        "text/html": "Commands completed successfully."
                    },
                    "metadata": {}
                },
                {
                    "output_type": "display_data",
                    "data": {
                        "text/html": "Total execution time: 00:00:00.007"
                    },
                    "metadata": {}
                }
            ],
            "execution_count": 3
        },
        {
            "cell_type": "markdown",
            "source": [
                "Run"
            ],
            "metadata": {
                "language": "sql",
                "azdata_cell_guid": "a403a403-10eb-46ff-b1bf-d1c72db3524d"
            },
            "attachments": {}
        },
        {
            "cell_type": "code",
            "source": [
                "SELECT * FROM EmployeeDetails;"
            ],
            "metadata": {
                "language": "sql",
                "azdata_cell_guid": "a84de9bc-30be-4050-90e8-b0ca62769429"
            },
            "outputs": [
                {
                    "output_type": "display_data",
                    "data": {
                        "text/html": "(4 rows affected)"
                    },
                    "metadata": {}
                },
                {
                    "output_type": "display_data",
                    "data": {
                        "text/html": "Total execution time: 00:00:00.016"
                    },
                    "metadata": {}
                },
                {
                    "output_type": "execute_result",
                    "metadata": {},
                    "execution_count": 5,
                    "data": {
                        "application/vnd.dataresource+json": {
                            "schema": {
                                "fields": [
                                    {
                                        "name": "EmployeeID"
                                    },
                                    {
                                        "name": "FirstName"
                                    },
                                    {
                                        "name": "LastName"
                                    },
                                    {
                                        "name": "DepartmentName"
                                    }
                                ]
                            },
                            "data": [
                                {
                                    "EmployeeID": "1",
                                    "FirstName": "John",
                                    "LastName": "Doe",
                                    "DepartmentName": "HR"
                                },
                                {
                                    "EmployeeID": "2",
                                    "FirstName": "Jane",
                                    "LastName": "Smith",
                                    "DepartmentName": "Finance"
                                },
                                {
                                    "EmployeeID": "3",
                                    "FirstName": "Bob",
                                    "LastName": "Johnson",
                                    "DepartmentName": "HR"
                                },
                                {
                                    "EmployeeID": "4",
                                    "FirstName": "Alice",
                                    "LastName": "Williams",
                                    "DepartmentName": "IT"
                                }
                            ]
                        },
                        "text/html": [
                            "<table>",
                            "<tr><th>EmployeeID</th><th>FirstName</th><th>LastName</th><th>DepartmentName</th></tr>",
                            "<tr><td>1</td><td>John</td><td>Doe</td><td>HR</td></tr>",
                            "<tr><td>2</td><td>Jane</td><td>Smith</td><td>Finance</td></tr>",
                            "<tr><td>3</td><td>Bob</td><td>Johnson</td><td>HR</td></tr>",
                            "<tr><td>4</td><td>Alice</td><td>Williams</td><td>IT</td></tr>",
                            "</table>"
                        ]
                    }
                }
            ],
            "execution_count": 5
        }
    ]
}