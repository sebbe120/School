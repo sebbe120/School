{
    "metadata": {
        "kernelspec": {
            "name": "SQL",
            "display_name": "SQL",
            "language": "sql"
        },
        "language_info": {
            "name": "sql",
            "version": ""
        }
    },
    "nbformat_minor": 2,
    "nbformat": 4,
    "cells": [
        {
            "cell_type": "markdown",
            "source": [
                "Prepare"
            ],
            "metadata": {
                "azdata_cell_guid": "8de08e2c-711f-451a-b118-f935a7750c9d"
            },
            "attachments": {}
        },
        {
            "cell_type": "code",
            "source": [
                "USE master;\n",
                "GO\n",
                "DROP DATABASE IF EXISTS [dfu23e_sp];\n",
                "GO\n",
                "CREATE DATABASE [dfu23e_sp];\n",
                "GO\n",
                "USE [dfu23e_sp];"
            ],
            "metadata": {
                "azdata_cell_guid": "1573e800-08a8-4da5-a2d4-ea0c789e8e20",
                "language": "sql"
            },
            "outputs": [
                {
                    "output_type": "display_data",
                    "data": {
                        "text/html": "Commands completed successfully."
                    },
                    "metadata": {}
                },
                {
                    "output_type": "display_data",
                    "data": {
                        "text/html": "Commands completed successfully."
                    },
                    "metadata": {}
                },
                {
                    "output_type": "display_data",
                    "data": {
                        "text/html": "Commands completed successfully."
                    },
                    "metadata": {}
                },
                {
                    "output_type": "display_data",
                    "data": {
                        "text/html": "Commands completed successfully."
                    },
                    "metadata": {}
                },
                {
                    "output_type": "display_data",
                    "data": {
                        "text/html": "Total execution time: 00:00:00.365"
                    },
                    "metadata": {}
                }
            ],
            "execution_count": 4
        },
        {
            "cell_type": "markdown",
            "source": [
                ""
            ],
            "metadata": {
                "language": "sql",
                "azdata_cell_guid": "bb70a236-d124-42d1-b9fb-f0e42bbd16e8"
            }
        },
        {
            "cell_type": "markdown",
            "source": [
                "Basic example"
            ],
            "metadata": {
                "language": "sql",
                "azdata_cell_guid": "bcda62cf-686b-4645-9157-785cba0f28b2"
            },
            "attachments": {}
        },
        {
            "cell_type": "code",
            "source": [
                "DROP PROCEDURE IF EXISTS BasicExampleProcedure;\n",
                "GO\n",
                "\n",
                "CREATE PROCEDURE BasicExampleProcedure\n",
                "AS\n",
                "BEGIN\n",
                "    PRINT 'What a wonderful world';\n",
                "END\n",
                "GO\n",
                "\n",
                "EXEC BasicExampleProcedure;"
            ],
            "metadata": {
                "language": "sql",
                "azdata_cell_guid": "1cf11880-8fd4-4fd1-80c3-4b2fbf4d8e78"
            },
            "outputs": [
                {
                    "output_type": "display_data",
                    "data": {
                        "text/html": "Commands completed successfully."
                    },
                    "metadata": {}
                },
                {
                    "output_type": "display_data",
                    "data": {
                        "text/html": "Commands completed successfully."
                    },
                    "metadata": {}
                },
                {
                    "output_type": "display_data",
                    "data": {
                        "text/html": "What a wonderful world"
                    },
                    "metadata": {}
                },
                {
                    "output_type": "display_data",
                    "data": {
                        "text/html": "Total execution time: 00:00:00.013"
                    },
                    "metadata": {}
                }
            ],
            "execution_count": 7
        },
        {
            "cell_type": "markdown",
            "source": [
                "Example of stored procedure"
            ],
            "metadata": {
                "language": "sql",
                "azdata_cell_guid": "3872123f-403f-49f9-a3ec-e4e173aef417"
            },
            "attachments": {}
        },
        {
            "cell_type": "markdown",
            "source": [
                "Pre populate data"
            ],
            "metadata": {
                "language": "sql",
                "azdata_cell_guid": "8dccdc5a-d64c-41d0-a6f7-81979a412538"
            },
            "attachments": {}
        },
        {
            "cell_type": "code",
            "source": [
                "DROP TABLE IF EXISTS cities;\n",
                "GO\n",
                "\n",
                "CREATE TABLE countries (\n",
                "    country_code CHAR(2) PRIMARY KEY,\n",
                "    country_name NVARCHAR(100)\n",
                ");\n",
                "\n",
                "INSERT INTO countries (country_code, country_name)\n",
                "VALUES\n",
                "    ('GB', 'United Kingdom'),\n",
                "    ('DK', 'Denmark'),\n",
                "    ('DE', 'Germany'),\n",
                "    ('SE', 'Sweden');\n",
                "\n",
                "CREATE TABLE cities (\n",
                "    city_id INT PRIMARY KEY IDENTITY(1,1),\n",
                "    city_name NVARCHAR(100),\n",
                "    population INT,\n",
                "    country_code CHAR(2)\n",
                ");\n",
                "\n",
                "INSERT INTO cities (city_name, population, country_code)\n",
                "VALUES\n",
                "    ('Copenhagen', 602481, 'DK'),\n",
                "    ('Aarhus', 347235, 'DK'),\n",
                "    ('Aalborg', 217075, 'DK'),\n",
                "    ('Odense', 204895, 'DK'),\n",
                "    ('Hamburg', 1841179, 'DE'),\n",
                "    ('Berlin', 3769495, 'DE'),\n",
                "    ('Munich', 1471508, 'DE'),\n",
                "    ('Stockholm', 975551, 'SE'),\n",
                "    ('Paris', 12, 'DK');\n",
                "\n",
                ""
            ],
            "metadata": {
                "language": "sql",
                "azdata_cell_guid": "5c2969ed-608a-48d8-a7cb-8f8f02e44e0f"
            },
            "outputs": [
                {
                    "output_type": "display_data",
                    "data": {
                        "text/html": "Commands completed successfully."
                    },
                    "metadata": {}
                },
                {
                    "output_type": "display_data",
                    "data": {
                        "text/html": "(4 rows affected)"
                    },
                    "metadata": {}
                },
                {
                    "output_type": "display_data",
                    "data": {
                        "text/html": "(9 rows affected)"
                    },
                    "metadata": {}
                },
                {
                    "output_type": "display_data",
                    "data": {
                        "text/html": "Total execution time: 00:00:00.025"
                    },
                    "metadata": {}
                }
            ],
            "execution_count": 23
        },
        {
            "cell_type": "markdown",
            "source": [
                "Stored Procedure"
            ],
            "metadata": {
                "language": "sql",
                "azdata_cell_guid": "272b1f98-c972-4fb1-b294-91c53d9fa521"
            },
            "attachments": {}
        },
        {
            "cell_type": "code",
            "source": [
                "DROP PROCEDURE IF EXISTS spGetCitiesByCountryAndMinPop;\n",
                "GO\n",
                "\n",
                "CREATE PROCEDURE dbo.spGetCitiesByCountryAndMinPop\n",
                "    @CountryCode CHAR(20),\n",
                "    @Pop INT\n",
                "AS\n",
                "BEGIN\n",
                "    SELECT *\n",
                "    FROM dbo.cities AS c\n",
                "    INNER JOIN dbo.countries AS co\n",
                "    ON c.country_code = co.country_code\n",
                "    WHERE co.country_code = @CountryCode\n",
                "        AND c.population >= @Pop\n",
                "END\n",
                "GO\n",
                "\n",
                "EXEC spGetCitiesByCountryAndMinPop @CountryCode = 'DK', @Pop = 300000;"
            ],
            "metadata": {
                "language": "sql",
                "azdata_cell_guid": "2d122b6c-fb69-443d-b0b9-e3f13ded338b"
            },
            "outputs": [
                {
                    "output_type": "display_data",
                    "data": {
                        "text/html": "Commands completed successfully."
                    },
                    "metadata": {}
                },
                {
                    "output_type": "display_data",
                    "data": {
                        "text/html": "Commands completed successfully."
                    },
                    "metadata": {}
                },
                {
                    "output_type": "display_data",
                    "data": {
                        "text/html": "(2 rows affected)"
                    },
                    "metadata": {}
                },
                {
                    "output_type": "display_data",
                    "data": {
                        "text/html": "Total execution time: 00:00:00.031"
                    },
                    "metadata": {}
                },
                {
                    "output_type": "execute_result",
                    "metadata": {},
                    "execution_count": 27,
                    "data": {
                        "application/vnd.dataresource+json": {
                            "schema": {
                                "fields": [
                                    {
                                        "name": "city_id"
                                    },
                                    {
                                        "name": "city_name"
                                    },
                                    {
                                        "name": "population"
                                    },
                                    {
                                        "name": "country_code"
                                    },
                                    {
                                        "name": "country_code"
                                    },
                                    {
                                        "name": "country_name"
                                    }
                                ]
                            },
                            "data": [
                                {
                                    "city_id": "1",
                                    "city_name": "Copenhagen",
                                    "population": "602481",
                                    "country_code": "DK",
                                    "country_name": "Denmark"
                                },
                                {
                                    "city_id": "2",
                                    "city_name": "Aarhus",
                                    "population": "347235",
                                    "country_code": "DK",
                                    "country_name": "Denmark"
                                }
                            ]
                        },
                        "text/html": [
                            "<table>",
                            "<tr><th>city_id</th><th>city_name</th><th>population</th><th>country_code</th><th>country_code</th><th>country_name</th></tr>",
                            "<tr><td>1</td><td>Copenhagen</td><td>602481</td><td>DK</td><td>DK</td><td>Denmark</td></tr>",
                            "<tr><td>2</td><td>Aarhus</td><td>347235</td><td>DK</td><td>DK</td><td>Denmark</td></tr>",
                            "</table>"
                        ]
                    }
                }
            ],
            "execution_count": 27
        }
    ]
}