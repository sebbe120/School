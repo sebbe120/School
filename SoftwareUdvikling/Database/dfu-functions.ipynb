{
    "metadata": {
        "kernelspec": {
            "name": "SQL",
            "display_name": "SQL",
            "language": "sql"
        },
        "language_info": {
            "name": "sql",
            "version": ""
        }
    },
    "nbformat_minor": 2,
    "nbformat": 4,
    "cells": [
        {
            "cell_type": "markdown",
            "source": [
                "Reset and preapre"
            ],
            "metadata": {
                "azdata_cell_guid": "57ee159e-3253-43a0-aeb5-a5d88f583820"
            },
            "attachments": {}
        },
        {
            "cell_type": "code",
            "source": [
                "USE master;\n",
                "GO\n",
                "DROP DATABASE IF EXISTS [dfu23e_functions];\n",
                "GO\n",
                "CREATE DATABASE [dfu23e_functions];\n",
                "GO\n",
                "USE [dfu23e_functions];"
            ],
            "metadata": {
                "azdata_cell_guid": "edeaf907-2e28-4eae-80d5-52e72ba62d0d",
                "language": "sql"
            },
            "outputs": [
                {
                    "output_type": "display_data",
                    "data": {
                        "text/html": "Commands completed successfully."
                    },
                    "metadata": {}
                },
                {
                    "output_type": "display_data",
                    "data": {
                        "text/html": "Commands completed successfully."
                    },
                    "metadata": {}
                },
                {
                    "output_type": "display_data",
                    "data": {
                        "text/html": "Commands completed successfully."
                    },
                    "metadata": {}
                },
                {
                    "output_type": "display_data",
                    "data": {
                        "text/html": "Commands completed successfully."
                    },
                    "metadata": {}
                },
                {
                    "output_type": "display_data",
                    "data": {
                        "text/html": "Total execution time: 00:00:00.383"
                    },
                    "metadata": {}
                }
            ],
            "execution_count": 2
        },
        {
            "cell_type": "markdown",
            "source": [
                "Basic example of a function"
            ],
            "metadata": {
                "language": "sql",
                "azdata_cell_guid": "373ccffc-9a22-41d3-a9a4-5fba4ebedf6d"
            },
            "attachments": {}
        },
        {
            "cell_type": "code",
            "source": [
                "DROP FUNCTION IF EXISTS [HelloWorld]\n",
                "GO\n",
                "\n",
                "CREATE FUNCTION HelloWorld()\n",
                "RETURNS NVARCHAR(100)\n",
                "AS\n",
                "BEGIN\n",
                "    DECLARE @message NVARCHAR(100) = 'Hello World';\n",
                "    RETURN @message;\n",
                "END;\n",
                "GO\n",
                "\n",
                "PRINT dbo.HelloWorld();"
            ],
            "metadata": {
                "language": "sql",
                "azdata_cell_guid": "8048902d-8126-4667-ae42-4c9e62833674"
            },
            "outputs": [
                {
                    "output_type": "display_data",
                    "data": {
                        "text/html": "Commands completed successfully."
                    },
                    "metadata": {}
                },
                {
                    "output_type": "display_data",
                    "data": {
                        "text/html": "Commands completed successfully."
                    },
                    "metadata": {}
                },
                {
                    "output_type": "display_data",
                    "data": {
                        "text/html": "Hello World"
                    },
                    "metadata": {}
                },
                {
                    "output_type": "display_data",
                    "data": {
                        "text/html": "Total execution time: 00:00:00.006"
                    },
                    "metadata": {}
                }
            ],
            "execution_count": 3
        },
        {
            "cell_type": "markdown",
            "source": [
                "Function doing calculations based on input"
            ],
            "metadata": {
                "language": "sql",
                "azdata_cell_guid": "caf38196-fc8a-4a84-9f3e-3e5a2c79160d"
            },
            "attachments": {}
        },
        {
            "cell_type": "code",
            "source": [
                "DROP FUNCTION IF EXISTS dbo.CalculateTotalPrice;\n",
                "GO\n",
                "\n",
                "CREATE FUNCTION CalculateTotalPrice(@price DECIMAL(10, 2), @quantity INT)\n",
                "RETURNS DECIMAL(10, 2)\n",
                "AS\n",
                "BEGIN\n",
                "    DECLARE @total DECIMAL(10, 2);\n",
                "    SET @total = @price * @quantity;\n",
                "    RETURN @total;\n",
                "END;\n",
                "GO\n",
                "\n",
                "DECLARE @productPrice DECIMAL(10, 2) = 15.99;\n",
                "DECLARE @productQuantity INT = 5;\n",
                "DECLARE @totalPrice DECIMAL(10, 2);\n",
                "\n",
                "SET @totalPrice = dbo.CalculateTotalPrice(@productPrice, @productQuantity);\n",
                "\n",
                "PRINT 'Total price for ' + CAST(@productQuantity AS NVARCHAR(10)) + ' items at $' + CAST(@productPrice AS NVARCHAR(10)) + ' each, is $' + CAST(@totalPrice AS NVARCHAR(10));"
            ],
            "metadata": {
                "language": "sql",
                "azdata_cell_guid": "d317c948-05e1-4289-a824-7873cf678348"
            },
            "outputs": [
                {
                    "output_type": "display_data",
                    "data": {
                        "text/html": "Commands completed successfully."
                    },
                    "metadata": {}
                },
                {
                    "output_type": "display_data",
                    "data": {
                        "text/html": "Commands completed successfully."
                    },
                    "metadata": {}
                },
                {
                    "output_type": "display_data",
                    "data": {
                        "text/html": "Total price for 5 items at $15.99 each, is $79.95"
                    },
                    "metadata": {}
                },
                {
                    "output_type": "display_data",
                    "data": {
                        "text/html": "Total execution time: 00:00:00.005"
                    },
                    "metadata": {}
                }
            ],
            "execution_count": 1
        }
    ]
}