{
    "metadata": {
        "kernelspec": {
            "name": "SQL",
            "display_name": "SQL",
            "language": "sql"
        },
        "language_info": {
            "name": "sql",
            "version": ""
        }
    },
    "nbformat_minor": 2,
    "nbformat": 4,
    "cells": [
        {
            "cell_type": "markdown",
            "source": [
                "### **01: Database procedures og funktioner** (Ja der er fuckups med capitalization ved 'id')"
            ],
            "metadata": {
                "language": "sql",
                "azdata_cell_guid": "163a8d64-c47a-40c7-b444-046c14591512"
            },
            "attachments": {}
        },
        {
            "cell_type": "code",
            "source": [
                "-- https://cloud.kjc.dk/s/RKKcNrst4kzsiFa\r\n",
                "-- USER sa / PASSWORD: Ladida.12\r\n",
                "\r\n",
                "USE master;\r\n",
                "GO\r\n",
                "ALTER DATABASE [StudentRegistration] SET SINGLE_USER WITH ROLLBACK IMMEDIATE;\r\n",
                "GO\r\n",
                "DROP DATABASE IF EXISTS [StudentRegistration];\r\n",
                "GO\r\n",
                "CREATE DATABASE [StudentRegistration];\r\n",
                "GO\r\n",
                "USE [StudentRegistration];"
            ],
            "metadata": {
                "azdata_cell_guid": "6e72b756-128f-4911-8ab7-b2c6c4ecca46",
                "language": "sql",
                "tags": []
            },
            "outputs": [
                {
                    "output_type": "display_data",
                    "data": {
                        "text/html": "Commands completed successfully."
                    },
                    "metadata": {}
                },
                {
                    "output_type": "display_data",
                    "data": {
                        "text/html": "Commands completed successfully."
                    },
                    "metadata": {}
                },
                {
                    "output_type": "display_data",
                    "data": {
                        "text/html": "Commands completed successfully."
                    },
                    "metadata": {}
                },
                {
                    "output_type": "display_data",
                    "data": {
                        "text/html": "Commands completed successfully."
                    },
                    "metadata": {}
                },
                {
                    "output_type": "display_data",
                    "data": {
                        "text/html": "Commands completed successfully."
                    },
                    "metadata": {}
                },
                {
                    "output_type": "display_data",
                    "data": {
                        "text/html": "Total execution time: 00:00:00.303"
                    },
                    "metadata": {}
                }
            ],
            "execution_count": 63
        },
        {
            "cell_type": "code",
            "source": [
                "CREATE TABLE Students (\r\n",
                "    Studentid int IDENTITY(1,1) PRIMARY KEY,\r\n",
                "    FirstName varchar(255),\r\n",
                "    LastName varchar(255),\r\n",
                "    PhoneNumber VARCHAR(8),\r\n",
                "    DateOfBirth DATE\r\n",
                ");\r\n",
                "\r\n",
                "CREATE TABLE Courses (\r\n",
                "    CourseId int IDENTITY(1,1) PRIMARY KEY,\r\n",
                "    CourseName varchar(100),\r\n",
                "    CourseDescription varchar(100),\r\n",
                "    CourseStartDate DATE,\r\n",
                "    CourseEndDate DATE\r\n",
                ");"
            ],
            "metadata": {
                "azdata_cell_guid": "1f71019e-0b23-483c-a185-ebdc719299a2",
                "language": "sql",
                "tags": []
            },
            "outputs": [
                {
                    "output_type": "display_data",
                    "data": {
                        "text/html": "Commands completed successfully."
                    },
                    "metadata": {}
                },
                {
                    "output_type": "display_data",
                    "data": {
                        "text/html": "Total execution time: 00:00:00.008"
                    },
                    "metadata": {}
                }
            ],
            "execution_count": 64
        },
        {
            "cell_type": "code",
            "source": [
                "-- Linking table for students + courses\r\n",
                "\r\n",
                "CREATE TABLE StudentCourses (\r\n",
                "    StudentCourseid int IDENTITY(1,1) PRIMARY KEY,\r\n",
                "    Studentid int FOREIGN KEY REFERENCES students(StudentID),\r\n",
                "    CourseId int FOREIGN KEY REFERENCES Courses(CourseId)\r\n",
                ");"
            ],
            "metadata": {
                "azdata_cell_guid": "7acbf630-f596-4985-b18e-337a81cccb14",
                "language": "sql"
            },
            "outputs": [
                {
                    "output_type": "display_data",
                    "data": {
                        "text/html": "Commands completed successfully."
                    },
                    "metadata": {}
                },
                {
                    "output_type": "display_data",
                    "data": {
                        "text/html": "Total execution time: 00:00:00.009"
                    },
                    "metadata": {}
                }
            ],
            "execution_count": 65
        },
        {
            "cell_type": "code",
            "source": [
                "INSERT INTO Courses\r\n",
                "VALUES\r\n",
                "    ('Biology', 'N/A', '20200101', '20220101'),\r\n",
                "    ('English', 'N/A', '20200101', '20220101'),\r\n",
                "    ('Math', 'N/A', '20200101', '20220101'),\r\n",
                "    ('Chemistry', 'N/A', '20200101', '20220101'),\r\n",
                "    ('Religion', 'N/A', '20200101', '20220101'),\r\n",
                "    ('Physics', 'N/A', '20200101', '20220101'),\r\n",
                "    ('Music', 'N/A', '20200101', '20220101')\r\n",
                "    ;"
            ],
            "metadata": {
                "azdata_cell_guid": "9afa0f37-1863-4013-a41c-fb3d2fcd37ff",
                "language": "sql"
            },
            "outputs": [
                {
                    "output_type": "display_data",
                    "data": {
                        "text/html": "(7 rows affected)"
                    },
                    "metadata": {}
                },
                {
                    "output_type": "display_data",
                    "data": {
                        "text/html": "Total execution time: 00:00:00.013"
                    },
                    "metadata": {}
                }
            ],
            "execution_count": 66
        },
        {
            "cell_type": "code",
            "source": [
                "INSERT INTO Students\r\n",
                "VALUES\r\n",
                "    ('Hans', 'Pilgaard', '12345678', '20000101'),\r\n",
                "    ('Lars', 'Eriksen', '87654321', '20050101'),\r\n",
                "    ('Erica', 'Jensen', '11111111', '20070505'),\r\n",
                "    ('Julie', 'Gulli', '77777777', '20000101'),\r\n",
                "    ('Asker', '', '', ''),\r\n",
                "    ('Ulrik', '', '', ''),\r\n",
                "    ('Josephine', '', '', ''),\r\n",
                "    ('Cecilie', '', '', ''),\r\n",
                "    ('Peter', '', '', ''),\r\n",
                "    ('Sarah', '', '', ''),\r\n",
                "    ('Clara', '', '', ''),\r\n",
                "    ('Børge', '', '', '')\r\n",
                "    ;"
            ],
            "metadata": {
                "azdata_cell_guid": "5e45e0d3-2b37-48c6-ace6-ad7a07c8afb1",
                "language": "sql"
            },
            "outputs": [
                {
                    "output_type": "display_data",
                    "data": {
                        "text/html": "(12 rows affected)"
                    },
                    "metadata": {}
                },
                {
                    "output_type": "display_data",
                    "data": {
                        "text/html": "Total execution time: 00:00:00.008"
                    },
                    "metadata": {}
                }
            ],
            "execution_count": 67
        },
        {
            "cell_type": "code",
            "source": [
                "INSERT INTO StudentCourses\r\n",
                "VALUES\r\n",
                "    (1,1),\r\n",
                "    (1,2),\r\n",
                "    (1,3),\r\n",
                "    (1,4),\r\n",
                "    (1,5),\r\n",
                "    (1,6),\r\n",
                "    (1,7),\r\n",
                "    (2,2),\r\n",
                "    (3,2),\r\n",
                "    (4,2),\r\n",
                "    (5,2),\r\n",
                "    (6,2),\r\n",
                "    (7,3),\r\n",
                "    (8,3),\r\n",
                "    (9,3),   \r\n",
                "    (10,3)\r\n",
                "    ;"
            ],
            "metadata": {
                "azdata_cell_guid": "101ead71-0e52-46db-a7e3-52846a41baf3",
                "language": "sql"
            },
            "outputs": [
                {
                    "output_type": "display_data",
                    "data": {
                        "text/html": "(16 rows affected)"
                    },
                    "metadata": {}
                },
                {
                    "output_type": "display_data",
                    "data": {
                        "text/html": "Total execution time: 00:00:00.013"
                    },
                    "metadata": {}
                }
            ],
            "execution_count": 68
        },
        {
            "cell_type": "code",
            "source": [
                "Select * FROM Students"
            ],
            "metadata": {
                "azdata_cell_guid": "70590aeb-21f0-40e9-a75d-5a58b46b5897",
                "language": "sql"
            },
            "outputs": [
                {
                    "output_type": "display_data",
                    "data": {
                        "text/html": "(12 rows affected)"
                    },
                    "metadata": {}
                },
                {
                    "output_type": "display_data",
                    "data": {
                        "text/html": "Total execution time: 00:00:00.004"
                    },
                    "metadata": {}
                },
                {
                    "output_type": "execute_result",
                    "metadata": {},
                    "execution_count": 69,
                    "data": {
                        "application/vnd.dataresource+json": {
                            "schema": {
                                "fields": [
                                    {
                                        "name": "Studentid"
                                    },
                                    {
                                        "name": "FirstName"
                                    },
                                    {
                                        "name": "LastName"
                                    },
                                    {
                                        "name": "PhoneNumber"
                                    },
                                    {
                                        "name": "DateOfBirth"
                                    }
                                ]
                            },
                            "data": [
                                {
                                    "Studentid": "1",
                                    "FirstName": "Hans",
                                    "LastName": "Pilgaard",
                                    "PhoneNumber": "12345678",
                                    "DateOfBirth": "2000-01-01"
                                },
                                {
                                    "Studentid": "2",
                                    "FirstName": "Lars",
                                    "LastName": "Eriksen",
                                    "PhoneNumber": "87654321",
                                    "DateOfBirth": "2005-01-01"
                                },
                                {
                                    "Studentid": "3",
                                    "FirstName": "Erica",
                                    "LastName": "Jensen",
                                    "PhoneNumber": "11111111",
                                    "DateOfBirth": "2007-05-05"
                                },
                                {
                                    "Studentid": "4",
                                    "FirstName": "Julie",
                                    "LastName": "Gulli",
                                    "PhoneNumber": "77777777",
                                    "DateOfBirth": "2000-01-01"
                                },
                                {
                                    "Studentid": "5",
                                    "FirstName": "Asker",
                                    "LastName": "",
                                    "PhoneNumber": "",
                                    "DateOfBirth": "1900-01-01"
                                },
                                {
                                    "Studentid": "6",
                                    "FirstName": "Ulrik",
                                    "LastName": "",
                                    "PhoneNumber": "",
                                    "DateOfBirth": "1900-01-01"
                                },
                                {
                                    "Studentid": "7",
                                    "FirstName": "Josephine",
                                    "LastName": "",
                                    "PhoneNumber": "",
                                    "DateOfBirth": "1900-01-01"
                                },
                                {
                                    "Studentid": "8",
                                    "FirstName": "Cecilie",
                                    "LastName": "",
                                    "PhoneNumber": "",
                                    "DateOfBirth": "1900-01-01"
                                },
                                {
                                    "Studentid": "9",
                                    "FirstName": "Peter",
                                    "LastName": "",
                                    "PhoneNumber": "",
                                    "DateOfBirth": "1900-01-01"
                                },
                                {
                                    "Studentid": "10",
                                    "FirstName": "Sarah",
                                    "LastName": "",
                                    "PhoneNumber": "",
                                    "DateOfBirth": "1900-01-01"
                                },
                                {
                                    "Studentid": "11",
                                    "FirstName": "Clara",
                                    "LastName": "",
                                    "PhoneNumber": "",
                                    "DateOfBirth": "1900-01-01"
                                },
                                {
                                    "Studentid": "12",
                                    "FirstName": "Børge",
                                    "LastName": "",
                                    "PhoneNumber": "",
                                    "DateOfBirth": "1900-01-01"
                                }
                            ]
                        },
                        "text/html": [
                            "<table>",
                            "<tr><th>Studentid</th><th>FirstName</th><th>LastName</th><th>PhoneNumber</th><th>DateOfBirth</th></tr>",
                            "<tr><td>1</td><td>Hans</td><td>Pilgaard</td><td>12345678</td><td>2000-01-01</td></tr>",
                            "<tr><td>2</td><td>Lars</td><td>Eriksen</td><td>87654321</td><td>2005-01-01</td></tr>",
                            "<tr><td>3</td><td>Erica</td><td>Jensen</td><td>11111111</td><td>2007-05-05</td></tr>",
                            "<tr><td>4</td><td>Julie</td><td>Gulli</td><td>77777777</td><td>2000-01-01</td></tr>",
                            "<tr><td>5</td><td>Asker</td><td></td><td></td><td>1900-01-01</td></tr>",
                            "<tr><td>6</td><td>Ulrik</td><td></td><td></td><td>1900-01-01</td></tr>",
                            "<tr><td>7</td><td>Josephine</td><td></td><td></td><td>1900-01-01</td></tr>",
                            "<tr><td>8</td><td>Cecilie</td><td></td><td></td><td>1900-01-01</td></tr>",
                            "<tr><td>9</td><td>Peter</td><td></td><td></td><td>1900-01-01</td></tr>",
                            "<tr><td>10</td><td>Sarah</td><td></td><td></td><td>1900-01-01</td></tr>",
                            "<tr><td>11</td><td>Clara</td><td></td><td></td><td>1900-01-01</td></tr>",
                            "<tr><td>12</td><td>Børge</td><td></td><td></td><td>1900-01-01</td></tr>",
                            "</table>"
                        ]
                    }
                }
            ],
            "execution_count": 69
        },
        {
            "cell_type": "code",
            "source": [
                "Select * FROM Courses"
            ],
            "metadata": {
                "language": "sql",
                "azdata_cell_guid": "b605ab30-556f-4137-97dd-58dd71bee9b7"
            },
            "outputs": [
                {
                    "output_type": "display_data",
                    "data": {
                        "text/html": "(7 rows affected)"
                    },
                    "metadata": {}
                },
                {
                    "output_type": "display_data",
                    "data": {
                        "text/html": "Total execution time: 00:00:00.004"
                    },
                    "metadata": {}
                },
                {
                    "output_type": "execute_result",
                    "metadata": {},
                    "execution_count": 70,
                    "data": {
                        "application/vnd.dataresource+json": {
                            "schema": {
                                "fields": [
                                    {
                                        "name": "CourseId"
                                    },
                                    {
                                        "name": "CourseName"
                                    },
                                    {
                                        "name": "CourseDescription"
                                    },
                                    {
                                        "name": "CourseStartDate"
                                    },
                                    {
                                        "name": "CourseEndDate"
                                    }
                                ]
                            },
                            "data": [
                                {
                                    "CourseId": "1",
                                    "CourseName": "Biology",
                                    "CourseDescription": "N/A",
                                    "CourseStartDate": "2020-01-01",
                                    "CourseEndDate": "2022-01-01"
                                },
                                {
                                    "CourseId": "2",
                                    "CourseName": "English",
                                    "CourseDescription": "N/A",
                                    "CourseStartDate": "2020-01-01",
                                    "CourseEndDate": "2022-01-01"
                                },
                                {
                                    "CourseId": "3",
                                    "CourseName": "Math",
                                    "CourseDescription": "N/A",
                                    "CourseStartDate": "2020-01-01",
                                    "CourseEndDate": "2022-01-01"
                                },
                                {
                                    "CourseId": "4",
                                    "CourseName": "Chemistry",
                                    "CourseDescription": "N/A",
                                    "CourseStartDate": "2020-01-01",
                                    "CourseEndDate": "2022-01-01"
                                },
                                {
                                    "CourseId": "5",
                                    "CourseName": "Religion",
                                    "CourseDescription": "N/A",
                                    "CourseStartDate": "2020-01-01",
                                    "CourseEndDate": "2022-01-01"
                                },
                                {
                                    "CourseId": "6",
                                    "CourseName": "Physics",
                                    "CourseDescription": "N/A",
                                    "CourseStartDate": "2020-01-01",
                                    "CourseEndDate": "2022-01-01"
                                },
                                {
                                    "CourseId": "7",
                                    "CourseName": "Music",
                                    "CourseDescription": "N/A",
                                    "CourseStartDate": "2020-01-01",
                                    "CourseEndDate": "2022-01-01"
                                }
                            ]
                        },
                        "text/html": [
                            "<table>",
                            "<tr><th>CourseId</th><th>CourseName</th><th>CourseDescription</th><th>CourseStartDate</th><th>CourseEndDate</th></tr>",
                            "<tr><td>1</td><td>Biology</td><td>N/A</td><td>2020-01-01</td><td>2022-01-01</td></tr>",
                            "<tr><td>2</td><td>English</td><td>N/A</td><td>2020-01-01</td><td>2022-01-01</td></tr>",
                            "<tr><td>3</td><td>Math</td><td>N/A</td><td>2020-01-01</td><td>2022-01-01</td></tr>",
                            "<tr><td>4</td><td>Chemistry</td><td>N/A</td><td>2020-01-01</td><td>2022-01-01</td></tr>",
                            "<tr><td>5</td><td>Religion</td><td>N/A</td><td>2020-01-01</td><td>2022-01-01</td></tr>",
                            "<tr><td>6</td><td>Physics</td><td>N/A</td><td>2020-01-01</td><td>2022-01-01</td></tr>",
                            "<tr><td>7</td><td>Music</td><td>N/A</td><td>2020-01-01</td><td>2022-01-01</td></tr>",
                            "</table>"
                        ]
                    }
                }
            ],
            "execution_count": 70
        },
        {
            "cell_type": "code",
            "source": [
                "CREATE PROCEDURE spAddStudent @FirstName varchar(255), @LastName varchar(255), @PhoneNumber VARCHAR(8), @DateOfBirth DATE\r\n",
                "AS\r\n",
                "INSERT INTO Students\r\n",
                "VALUES (@FirstName, @LastName, @PhoneNumber, @DateOfBirth)\r\n",
                "GO"
            ],
            "metadata": {
                "azdata_cell_guid": "68d8625e-6b58-4ef4-86ad-74bfd7a7bddd",
                "language": "sql"
            },
            "outputs": [
                {
                    "output_type": "display_data",
                    "data": {
                        "text/html": "Commands completed successfully."
                    },
                    "metadata": {}
                },
                {
                    "output_type": "display_data",
                    "data": {
                        "text/html": "Total execution time: 00:00:00.005"
                    },
                    "metadata": {}
                }
            ],
            "execution_count": 71
        },
        {
            "cell_type": "code",
            "source": [
                "EXEC [dbo].[spAddStudent]\r\n",
                "@FirstName = 'Karl',\r\n",
                "@LastName = 'Fazer',\r\n",
                "@PhoneNumber = '99999999',\r\n",
                "@DateOfBirth = '19990101'\r\n",
                "GO"
            ],
            "metadata": {
                "language": "sql",
                "azdata_cell_guid": "eb46dcdc-b941-45ff-a5a8-64e3b18b4fe4"
            },
            "outputs": [
                {
                    "output_type": "display_data",
                    "data": {
                        "text/html": "(1 row affected)"
                    },
                    "metadata": {}
                },
                {
                    "output_type": "display_data",
                    "data": {
                        "text/html": "Total execution time: 00:00:00.010"
                    },
                    "metadata": {}
                }
            ],
            "execution_count": 72
        },
        {
            "cell_type": "code",
            "source": [
                "Select * FROM Students"
            ],
            "metadata": {
                "language": "sql",
                "azdata_cell_guid": "5f3c052e-e7c4-4316-8060-8387efde80f0"
            },
            "outputs": [
                {
                    "output_type": "display_data",
                    "data": {
                        "text/html": "(13 rows affected)"
                    },
                    "metadata": {}
                },
                {
                    "output_type": "display_data",
                    "data": {
                        "text/html": "Total execution time: 00:00:00.003"
                    },
                    "metadata": {}
                },
                {
                    "output_type": "execute_result",
                    "metadata": {},
                    "execution_count": 73,
                    "data": {
                        "application/vnd.dataresource+json": {
                            "schema": {
                                "fields": [
                                    {
                                        "name": "Studentid"
                                    },
                                    {
                                        "name": "FirstName"
                                    },
                                    {
                                        "name": "LastName"
                                    },
                                    {
                                        "name": "PhoneNumber"
                                    },
                                    {
                                        "name": "DateOfBirth"
                                    }
                                ]
                            },
                            "data": [
                                {
                                    "Studentid": "1",
                                    "FirstName": "Hans",
                                    "LastName": "Pilgaard",
                                    "PhoneNumber": "12345678",
                                    "DateOfBirth": "2000-01-01"
                                },
                                {
                                    "Studentid": "2",
                                    "FirstName": "Lars",
                                    "LastName": "Eriksen",
                                    "PhoneNumber": "87654321",
                                    "DateOfBirth": "2005-01-01"
                                },
                                {
                                    "Studentid": "3",
                                    "FirstName": "Erica",
                                    "LastName": "Jensen",
                                    "PhoneNumber": "11111111",
                                    "DateOfBirth": "2007-05-05"
                                },
                                {
                                    "Studentid": "4",
                                    "FirstName": "Julie",
                                    "LastName": "Gulli",
                                    "PhoneNumber": "77777777",
                                    "DateOfBirth": "2000-01-01"
                                },
                                {
                                    "Studentid": "5",
                                    "FirstName": "Asker",
                                    "LastName": "",
                                    "PhoneNumber": "",
                                    "DateOfBirth": "1900-01-01"
                                },
                                {
                                    "Studentid": "6",
                                    "FirstName": "Ulrik",
                                    "LastName": "",
                                    "PhoneNumber": "",
                                    "DateOfBirth": "1900-01-01"
                                },
                                {
                                    "Studentid": "7",
                                    "FirstName": "Josephine",
                                    "LastName": "",
                                    "PhoneNumber": "",
                                    "DateOfBirth": "1900-01-01"
                                },
                                {
                                    "Studentid": "8",
                                    "FirstName": "Cecilie",
                                    "LastName": "",
                                    "PhoneNumber": "",
                                    "DateOfBirth": "1900-01-01"
                                },
                                {
                                    "Studentid": "9",
                                    "FirstName": "Peter",
                                    "LastName": "",
                                    "PhoneNumber": "",
                                    "DateOfBirth": "1900-01-01"
                                },
                                {
                                    "Studentid": "10",
                                    "FirstName": "Sarah",
                                    "LastName": "",
                                    "PhoneNumber": "",
                                    "DateOfBirth": "1900-01-01"
                                },
                                {
                                    "Studentid": "11",
                                    "FirstName": "Clara",
                                    "LastName": "",
                                    "PhoneNumber": "",
                                    "DateOfBirth": "1900-01-01"
                                },
                                {
                                    "Studentid": "12",
                                    "FirstName": "Børge",
                                    "LastName": "",
                                    "PhoneNumber": "",
                                    "DateOfBirth": "1900-01-01"
                                },
                                {
                                    "Studentid": "13",
                                    "FirstName": "Karl",
                                    "LastName": "Fazer",
                                    "PhoneNumber": "99999999",
                                    "DateOfBirth": "1999-01-01"
                                }
                            ]
                        },
                        "text/html": [
                            "<table>",
                            "<tr><th>Studentid</th><th>FirstName</th><th>LastName</th><th>PhoneNumber</th><th>DateOfBirth</th></tr>",
                            "<tr><td>1</td><td>Hans</td><td>Pilgaard</td><td>12345678</td><td>2000-01-01</td></tr>",
                            "<tr><td>2</td><td>Lars</td><td>Eriksen</td><td>87654321</td><td>2005-01-01</td></tr>",
                            "<tr><td>3</td><td>Erica</td><td>Jensen</td><td>11111111</td><td>2007-05-05</td></tr>",
                            "<tr><td>4</td><td>Julie</td><td>Gulli</td><td>77777777</td><td>2000-01-01</td></tr>",
                            "<tr><td>5</td><td>Asker</td><td></td><td></td><td>1900-01-01</td></tr>",
                            "<tr><td>6</td><td>Ulrik</td><td></td><td></td><td>1900-01-01</td></tr>",
                            "<tr><td>7</td><td>Josephine</td><td></td><td></td><td>1900-01-01</td></tr>",
                            "<tr><td>8</td><td>Cecilie</td><td></td><td></td><td>1900-01-01</td></tr>",
                            "<tr><td>9</td><td>Peter</td><td></td><td></td><td>1900-01-01</td></tr>",
                            "<tr><td>10</td><td>Sarah</td><td></td><td></td><td>1900-01-01</td></tr>",
                            "<tr><td>11</td><td>Clara</td><td></td><td></td><td>1900-01-01</td></tr>",
                            "<tr><td>12</td><td>Børge</td><td></td><td></td><td>1900-01-01</td></tr>",
                            "<tr><td>13</td><td>Karl</td><td>Fazer</td><td>99999999</td><td>1999-01-01</td></tr>",
                            "</table>"
                        ]
                    }
                }
            ],
            "execution_count": 73
        },
        {
            "cell_type": "code",
            "source": [
                "CREATE PROCEDURE spAddCourse @CourseName varchar(100), @CourseDescription varchar(100), @CourseStartDate DATE, @CourseEndDate DATE\r\n",
                "AS\r\n",
                "INSERT INTO Courses\r\n",
                "VALUES (@CourseName, @CourseDescription, @CourseStartDate, @CourseEndDate)\r\n",
                "GO"
            ],
            "metadata": {
                "language": "sql",
                "azdata_cell_guid": "91acc35f-24b8-4bb5-a1e5-0412d6706076",
                "tags": []
            },
            "outputs": [
                {
                    "output_type": "display_data",
                    "data": {
                        "text/html": "Commands completed successfully."
                    },
                    "metadata": {}
                },
                {
                    "output_type": "display_data",
                    "data": {
                        "text/html": "Total execution time: 00:00:00.006"
                    },
                    "metadata": {}
                }
            ],
            "execution_count": 74
        },
        {
            "cell_type": "code",
            "source": [
                "EXEC [dbo].[spAddCourse]\r\n",
                "@CourseName = 'Chemistry',\r\n",
                "@CourseDescription = 'Something about something',\r\n",
                "@CourseStartDate = '20100101',\r\n",
                "@CourseEndDate = '20120101'\r\n",
                "GO"
            ],
            "metadata": {
                "language": "sql",
                "azdata_cell_guid": "3ba09a7c-643e-439e-9331-71626b727241"
            },
            "outputs": [
                {
                    "output_type": "display_data",
                    "data": {
                        "text/html": "(1 row affected)"
                    },
                    "metadata": {}
                },
                {
                    "output_type": "display_data",
                    "data": {
                        "text/html": "Total execution time: 00:00:00.005"
                    },
                    "metadata": {}
                }
            ],
            "execution_count": 75
        },
        {
            "cell_type": "code",
            "source": [
                "Select * FROM Courses"
            ],
            "metadata": {
                "language": "sql",
                "azdata_cell_guid": "02b2d04a-75bc-4802-aa4d-b5ad36a6db63"
            },
            "outputs": [
                {
                    "output_type": "display_data",
                    "data": {
                        "text/html": "(8 rows affected)"
                    },
                    "metadata": {}
                },
                {
                    "output_type": "display_data",
                    "data": {
                        "text/html": "Total execution time: 00:00:00.003"
                    },
                    "metadata": {}
                },
                {
                    "output_type": "execute_result",
                    "metadata": {},
                    "execution_count": 76,
                    "data": {
                        "application/vnd.dataresource+json": {
                            "schema": {
                                "fields": [
                                    {
                                        "name": "CourseId"
                                    },
                                    {
                                        "name": "CourseName"
                                    },
                                    {
                                        "name": "CourseDescription"
                                    },
                                    {
                                        "name": "CourseStartDate"
                                    },
                                    {
                                        "name": "CourseEndDate"
                                    }
                                ]
                            },
                            "data": [
                                {
                                    "CourseId": "1",
                                    "CourseName": "Biology",
                                    "CourseDescription": "N/A",
                                    "CourseStartDate": "2020-01-01",
                                    "CourseEndDate": "2022-01-01"
                                },
                                {
                                    "CourseId": "2",
                                    "CourseName": "English",
                                    "CourseDescription": "N/A",
                                    "CourseStartDate": "2020-01-01",
                                    "CourseEndDate": "2022-01-01"
                                },
                                {
                                    "CourseId": "3",
                                    "CourseName": "Math",
                                    "CourseDescription": "N/A",
                                    "CourseStartDate": "2020-01-01",
                                    "CourseEndDate": "2022-01-01"
                                },
                                {
                                    "CourseId": "4",
                                    "CourseName": "Chemistry",
                                    "CourseDescription": "N/A",
                                    "CourseStartDate": "2020-01-01",
                                    "CourseEndDate": "2022-01-01"
                                },
                                {
                                    "CourseId": "5",
                                    "CourseName": "Religion",
                                    "CourseDescription": "N/A",
                                    "CourseStartDate": "2020-01-01",
                                    "CourseEndDate": "2022-01-01"
                                },
                                {
                                    "CourseId": "6",
                                    "CourseName": "Physics",
                                    "CourseDescription": "N/A",
                                    "CourseStartDate": "2020-01-01",
                                    "CourseEndDate": "2022-01-01"
                                },
                                {
                                    "CourseId": "7",
                                    "CourseName": "Music",
                                    "CourseDescription": "N/A",
                                    "CourseStartDate": "2020-01-01",
                                    "CourseEndDate": "2022-01-01"
                                },
                                {
                                    "CourseId": "8",
                                    "CourseName": "Chemistry",
                                    "CourseDescription": "Something about something",
                                    "CourseStartDate": "2010-01-01",
                                    "CourseEndDate": "2012-01-01"
                                }
                            ]
                        },
                        "text/html": [
                            "<table>",
                            "<tr><th>CourseId</th><th>CourseName</th><th>CourseDescription</th><th>CourseStartDate</th><th>CourseEndDate</th></tr>",
                            "<tr><td>1</td><td>Biology</td><td>N/A</td><td>2020-01-01</td><td>2022-01-01</td></tr>",
                            "<tr><td>2</td><td>English</td><td>N/A</td><td>2020-01-01</td><td>2022-01-01</td></tr>",
                            "<tr><td>3</td><td>Math</td><td>N/A</td><td>2020-01-01</td><td>2022-01-01</td></tr>",
                            "<tr><td>4</td><td>Chemistry</td><td>N/A</td><td>2020-01-01</td><td>2022-01-01</td></tr>",
                            "<tr><td>5</td><td>Religion</td><td>N/A</td><td>2020-01-01</td><td>2022-01-01</td></tr>",
                            "<tr><td>6</td><td>Physics</td><td>N/A</td><td>2020-01-01</td><td>2022-01-01</td></tr>",
                            "<tr><td>7</td><td>Music</td><td>N/A</td><td>2020-01-01</td><td>2022-01-01</td></tr>",
                            "<tr><td>8</td><td>Chemistry</td><td>Something about something</td><td>2010-01-01</td><td>2012-01-01</td></tr>",
                            "</table>"
                        ]
                    }
                }
            ],
            "execution_count": 76
        },
        {
            "cell_type": "code",
            "source": [
                "CREATE PROCEDURE spAssignStudentToCourse @Studentid int, @CourseId int\r\n",
                "AS\r\n",
                "INSERT INTO StudentCourses\r\n",
                "VALUES (@Studentid, @CourseId)\r\n",
                "GO"
            ],
            "metadata": {
                "language": "sql",
                "azdata_cell_guid": "1d6192f1-e00e-413c-b773-8508fd3de647"
            },
            "outputs": [
                {
                    "output_type": "display_data",
                    "data": {
                        "text/html": "Commands completed successfully."
                    },
                    "metadata": {}
                },
                {
                    "output_type": "display_data",
                    "data": {
                        "text/html": "Total execution time: 00:00:00.006"
                    },
                    "metadata": {}
                }
            ],
            "execution_count": 77
        },
        {
            "cell_type": "code",
            "source": [
                "EXEC [dbo].[spAssignStudentToCourse]\r\n",
                "@Studentid = 4,\r\n",
                "@CourseId = 8\r\n",
                "GO"
            ],
            "metadata": {
                "language": "sql",
                "azdata_cell_guid": "1bfc8426-af7d-4c4a-b4bd-7fbdff88145a"
            },
            "outputs": [
                {
                    "output_type": "display_data",
                    "data": {
                        "text/html": "(1 row affected)"
                    },
                    "metadata": {}
                },
                {
                    "output_type": "display_data",
                    "data": {
                        "text/html": "Total execution time: 00:00:00.006"
                    },
                    "metadata": {}
                }
            ],
            "execution_count": 78
        },
        {
            "cell_type": "code",
            "source": [
                "SELECT Students.FirstName, Courses.CourseName\r\n",
                "FROM StudentCourses\r\n",
                "INNER JOIN Students ON StudentCourses.Studentid = Students.Studentid\r\n",
                "INNER JOIN Courses ON StudentCourses.CourseId = Courses.CourseId;"
            ],
            "metadata": {
                "language": "sql",
                "azdata_cell_guid": "e6501d0c-304e-43ef-b009-72439f27cc1f",
                "tags": []
            },
            "outputs": [
                {
                    "output_type": "display_data",
                    "data": {
                        "text/html": "(17 rows affected)"
                    },
                    "metadata": {}
                },
                {
                    "output_type": "display_data",
                    "data": {
                        "text/html": "Total execution time: 00:00:00.016"
                    },
                    "metadata": {}
                },
                {
                    "output_type": "execute_result",
                    "metadata": {},
                    "execution_count": 79,
                    "data": {
                        "application/vnd.dataresource+json": {
                            "schema": {
                                "fields": [
                                    {
                                        "name": "FirstName"
                                    },
                                    {
                                        "name": "CourseName"
                                    }
                                ]
                            },
                            "data": [
                                {
                                    "FirstName": "Hans",
                                    "CourseName": "Biology"
                                },
                                {
                                    "FirstName": "Hans",
                                    "CourseName": "English"
                                },
                                {
                                    "FirstName": "Hans",
                                    "CourseName": "Math"
                                },
                                {
                                    "FirstName": "Hans",
                                    "CourseName": "Chemistry"
                                },
                                {
                                    "FirstName": "Hans",
                                    "CourseName": "Religion"
                                },
                                {
                                    "FirstName": "Hans",
                                    "CourseName": "Physics"
                                },
                                {
                                    "FirstName": "Hans",
                                    "CourseName": "Music"
                                },
                                {
                                    "FirstName": "Lars",
                                    "CourseName": "English"
                                },
                                {
                                    "FirstName": "Erica",
                                    "CourseName": "English"
                                },
                                {
                                    "FirstName": "Julie",
                                    "CourseName": "English"
                                },
                                {
                                    "FirstName": "Asker",
                                    "CourseName": "English"
                                },
                                {
                                    "FirstName": "Ulrik",
                                    "CourseName": "English"
                                },
                                {
                                    "FirstName": "Josephine",
                                    "CourseName": "Math"
                                },
                                {
                                    "FirstName": "Cecilie",
                                    "CourseName": "Math"
                                },
                                {
                                    "FirstName": "Peter",
                                    "CourseName": "Math"
                                },
                                {
                                    "FirstName": "Sarah",
                                    "CourseName": "Math"
                                },
                                {
                                    "FirstName": "Julie",
                                    "CourseName": "Chemistry"
                                }
                            ]
                        },
                        "text/html": [
                            "<table>",
                            "<tr><th>FirstName</th><th>CourseName</th></tr>",
                            "<tr><td>Hans</td><td>Biology</td></tr>",
                            "<tr><td>Hans</td><td>English</td></tr>",
                            "<tr><td>Hans</td><td>Math</td></tr>",
                            "<tr><td>Hans</td><td>Chemistry</td></tr>",
                            "<tr><td>Hans</td><td>Religion</td></tr>",
                            "<tr><td>Hans</td><td>Physics</td></tr>",
                            "<tr><td>Hans</td><td>Music</td></tr>",
                            "<tr><td>Lars</td><td>English</td></tr>",
                            "<tr><td>Erica</td><td>English</td></tr>",
                            "<tr><td>Julie</td><td>English</td></tr>",
                            "<tr><td>Asker</td><td>English</td></tr>",
                            "<tr><td>Ulrik</td><td>English</td></tr>",
                            "<tr><td>Josephine</td><td>Math</td></tr>",
                            "<tr><td>Cecilie</td><td>Math</td></tr>",
                            "<tr><td>Peter</td><td>Math</td></tr>",
                            "<tr><td>Sarah</td><td>Math</td></tr>",
                            "<tr><td>Julie</td><td>Chemistry</td></tr>",
                            "</table>"
                        ]
                    }
                }
            ],
            "execution_count": 79
        },
        {
            "cell_type": "code",
            "source": [
                "Create PROCEDURE spGetStudentCourses @Studentid int\r\n",
                "AS\r\n",
                "BEGIN\r\n",
                "    SELECT Students.FirstName, Courses.CourseName\r\n",
                "    FROM StudentCourses\r\n",
                "    INNER JOIN Students ON StudentCourses.Studentid = Students.Studentid\r\n",
                "    INNER JOIN Courses ON StudentCourses.CourseId = Courses.CourseId WHERE StudentCourses.Studentid = @Studentid;\r\n",
                "END\r\n",
                "Go"
            ],
            "metadata": {
                "language": "sql",
                "azdata_cell_guid": "f7e7de1e-2f11-4b96-899b-23030a547bdf",
                "tags": []
            },
            "outputs": [
                {
                    "output_type": "display_data",
                    "data": {
                        "text/html": "Commands completed successfully."
                    },
                    "metadata": {}
                },
                {
                    "output_type": "display_data",
                    "data": {
                        "text/html": "Total execution time: 00:00:00.007"
                    },
                    "metadata": {}
                }
            ],
            "execution_count": 80
        },
        {
            "cell_type": "code",
            "source": [
                "EXEC [dbo].[spGetStudentCourses]\r\n",
                "@Studentid = 1\r\n",
                "GO"
            ],
            "metadata": {
                "language": "sql",
                "azdata_cell_guid": "0aa58d3d-a6d7-4e74-9bd4-64115bbb07e0"
            },
            "outputs": [
                {
                    "output_type": "display_data",
                    "data": {
                        "text/html": "(7 rows affected)"
                    },
                    "metadata": {}
                },
                {
                    "output_type": "display_data",
                    "data": {
                        "text/html": "Total execution time: 00:00:00.008"
                    },
                    "metadata": {}
                },
                {
                    "output_type": "execute_result",
                    "metadata": {},
                    "execution_count": 87,
                    "data": {
                        "application/vnd.dataresource+json": {
                            "schema": {
                                "fields": [
                                    {
                                        "name": "FirstName"
                                    },
                                    {
                                        "name": "CourseName"
                                    }
                                ]
                            },
                            "data": [
                                {
                                    "FirstName": "Hans",
                                    "CourseName": "Biology"
                                },
                                {
                                    "FirstName": "Hans",
                                    "CourseName": "English"
                                },
                                {
                                    "FirstName": "Hans",
                                    "CourseName": "Math"
                                },
                                {
                                    "FirstName": "Hans",
                                    "CourseName": "Chemistry"
                                },
                                {
                                    "FirstName": "Hans",
                                    "CourseName": "Religion"
                                },
                                {
                                    "FirstName": "Hans",
                                    "CourseName": "Physics"
                                },
                                {
                                    "FirstName": "Hans",
                                    "CourseName": "Music"
                                }
                            ]
                        },
                        "text/html": [
                            "<table>",
                            "<tr><th>FirstName</th><th>CourseName</th></tr>",
                            "<tr><td>Hans</td><td>Biology</td></tr>",
                            "<tr><td>Hans</td><td>English</td></tr>",
                            "<tr><td>Hans</td><td>Math</td></tr>",
                            "<tr><td>Hans</td><td>Chemistry</td></tr>",
                            "<tr><td>Hans</td><td>Religion</td></tr>",
                            "<tr><td>Hans</td><td>Physics</td></tr>",
                            "<tr><td>Hans</td><td>Music</td></tr>",
                            "</table>"
                        ]
                    }
                }
            ],
            "execution_count": 87
        },
        {
            "cell_type": "code",
            "source": [
                "CREATE PROCEDURE spGetCoursesStudents @CourseId int\r\n",
                "AS\r\n",
                "BEGIN\r\n",
                "    SELECT Courses.CourseName, Students.FirstName\r\n",
                "    FROM StudentCourses\r\n",
                "    INNER JOIN Courses ON StudentCourses.CourseId = Courses.CourseId\r\n",
                "    INNER JOIN Students ON StudentCourses.Studentid = Students.Studentid WHERE StudentCourses.CourseId = @CourseId;\r\n",
                "END\r\n",
                "Go"
            ],
            "metadata": {
                "language": "sql",
                "azdata_cell_guid": "6403c809-4663-4b1a-b33e-ae96b31a1c2e"
            },
            "outputs": [
                {
                    "output_type": "display_data",
                    "data": {
                        "text/html": "Commands completed successfully."
                    },
                    "metadata": {}
                },
                {
                    "output_type": "display_data",
                    "data": {
                        "text/html": "Total execution time: 00:00:00.006"
                    },
                    "metadata": {}
                }
            ],
            "execution_count": 82
        },
        {
            "cell_type": "code",
            "source": [
                "EXEC [dbo].[spGetCoursesStudents]\r\n",
                "@CourseId = 2\r\n",
                "GO"
            ],
            "metadata": {
                "language": "sql",
                "azdata_cell_guid": "930537d3-3344-4655-b451-d6c3173b7333"
            },
            "outputs": [
                {
                    "output_type": "display_data",
                    "data": {
                        "text/html": "(6 rows affected)"
                    },
                    "metadata": {}
                },
                {
                    "output_type": "display_data",
                    "data": {
                        "text/html": "Total execution time: 00:00:00.008"
                    },
                    "metadata": {}
                },
                {
                    "output_type": "execute_result",
                    "metadata": {},
                    "execution_count": 86,
                    "data": {
                        "application/vnd.dataresource+json": {
                            "schema": {
                                "fields": [
                                    {
                                        "name": "CourseName"
                                    },
                                    {
                                        "name": "FirstName"
                                    }
                                ]
                            },
                            "data": [
                                {
                                    "CourseName": "English",
                                    "FirstName": "Hans"
                                },
                                {
                                    "CourseName": "English",
                                    "FirstName": "Lars"
                                },
                                {
                                    "CourseName": "English",
                                    "FirstName": "Erica"
                                },
                                {
                                    "CourseName": "English",
                                    "FirstName": "Julie"
                                },
                                {
                                    "CourseName": "English",
                                    "FirstName": "Asker"
                                },
                                {
                                    "CourseName": "English",
                                    "FirstName": "Ulrik"
                                }
                            ]
                        },
                        "text/html": [
                            "<table>",
                            "<tr><th>CourseName</th><th>FirstName</th></tr>",
                            "<tr><td>English</td><td>Hans</td></tr>",
                            "<tr><td>English</td><td>Lars</td></tr>",
                            "<tr><td>English</td><td>Erica</td></tr>",
                            "<tr><td>English</td><td>Julie</td></tr>",
                            "<tr><td>English</td><td>Asker</td></tr>",
                            "<tr><td>English</td><td>Ulrik</td></tr>",
                            "</table>"
                        ]
                    }
                }
            ],
            "execution_count": 86
        },
        {
            "cell_type": "markdown",
            "source": [
                "### **02: Transactions og stored procedures**"
            ],
            "metadata": {
                "language": "sql",
                "azdata_cell_guid": "8d8b3fbd-43cf-4356-9174-ee9057acd537"
            },
            "attachments": {}
        },
        {
            "cell_type": "code",
            "source": [
                "USE master;\r\n",
                "GO\r\n",
                "ALTER DATABASE [EShopOnWeb] SET SINGLE_USER WITH ROLLBACK IMMEDIATE;\r\n",
                "GO\r\n",
                "DROP DATABASE IF EXISTS [EShopOnWeb];\r\n",
                "GO\r\n",
                "CREATE DATABASE [EShopOnWeb];\r\n",
                "GO\r\n",
                "USE [EShopOnWeb];"
            ],
            "metadata": {
                "language": "sql",
                "azdata_cell_guid": "ffa15362-fd4a-4be6-b1b3-26e8e2a5c6b4"
            },
            "outputs": [
                {
                    "output_type": "display_data",
                    "data": {
                        "text/html": "Commands completed successfully."
                    },
                    "metadata": {}
                },
                {
                    "output_type": "display_data",
                    "data": {
                        "text/html": "Commands completed successfully."
                    },
                    "metadata": {}
                },
                {
                    "output_type": "display_data",
                    "data": {
                        "text/html": "Commands completed successfully."
                    },
                    "metadata": {}
                },
                {
                    "output_type": "display_data",
                    "data": {
                        "text/html": "Commands completed successfully."
                    },
                    "metadata": {}
                },
                {
                    "output_type": "display_data",
                    "data": {
                        "text/html": "Commands completed successfully."
                    },
                    "metadata": {}
                },
                {
                    "output_type": "display_data",
                    "data": {
                        "text/html": "Total execution time: 00:00:00.250"
                    },
                    "metadata": {}
                }
            ],
            "execution_count": 90
        },
        {
            "cell_type": "code",
            "source": [
                "CREATE TABLE Products (\r\n",
                "    ProductId int IDENTITY(1,1) PRIMARY KEY,\r\n",
                "    ProductName varchar(100),\r\n",
                "    Price decimal(10,2),\r\n",
                "    Quantity int\r\n",
                ");\r\n",
                "\r\n",
                "CREATE TABLE Orders (\r\n",
                "    OrdersId int IDENTITY(1,1) PRIMARY KEY,\r\n",
                "    ClientId int,\r\n",
                "    ProductId int FOREIGN KEY REFERENCES Products(ProductId),\r\n",
                "    Amount int,\r\n",
                "    OrderDate DATE\r\n",
                ");"
            ],
            "metadata": {
                "language": "sql",
                "azdata_cell_guid": "976ee289-69f5-4534-9fe8-d8a37db5f0e6"
            },
            "outputs": [
                {
                    "output_type": "display_data",
                    "data": {
                        "text/html": "Commands completed successfully."
                    },
                    "metadata": {}
                },
                {
                    "output_type": "display_data",
                    "data": {
                        "text/html": "Total execution time: 00:00:00.012"
                    },
                    "metadata": {}
                }
            ],
            "execution_count": 91
        },
        {
            "cell_type": "code",
            "source": [
                "INSERT INTO Products\r\n",
                "VALUES\r\n",
                "    ('Door', 200, 10),\r\n",
                "    ('Sofa', 300, 10),\r\n",
                "    ('TV', 1000, 10),\r\n",
                "    ('Chair', 50, 10),\r\n",
                "    ('Table', 150, 10),\r\n",
                "    ('Plate', 50, 10),\r\n",
                "    ('Fork', 10, 10),\r\n",
                "    ('Knife', 10, 10),\r\n",
                "    ('Spoon', 10, 10),\r\n",
                "    ('Glass', 20, 10)\r\n",
                "    ;"
            ],
            "metadata": {
                "language": "sql",
                "azdata_cell_guid": "c69b1da4-cc67-4f1e-bee0-0aad56c94023"
            },
            "outputs": [
                {
                    "output_type": "display_data",
                    "data": {
                        "text/html": "(10 rows affected)"
                    },
                    "metadata": {}
                },
                {
                    "output_type": "display_data",
                    "data": {
                        "text/html": "Total execution time: 00:00:00.018"
                    },
                    "metadata": {}
                }
            ],
            "execution_count": 92
        },
        {
            "cell_type": "code",
            "source": [
                "ALTER PROCEDURE spOrderItems @ClientId int, @ProductId int, @Quantity int\r\n",
                "AS\r\n",
                "BEGIN\r\n",
                "    BEGIN TRANSACTION\r\n",
                "        BEGIN TRY\r\n",
                "            IF (@Quantity > (SELECT Quantity FROM Products WHERE ProductId = @ProductId))\r\n",
                "            BEGIN\r\n",
                "                ROLLBACK TRANSACTION\r\n",
                "                PRINT 'Not enough items in stock'\r\n",
                "                RETURN\r\n",
                "            END\r\n",
                "\r\n",
                "            UPDATE Products SET Quantity = Quantity - @Quantity WHERE ProductId = @ProductId\r\n",
                "\r\n",
                "            INSERT INTO Orders VALUES (@ClientId, @ProductId, @Quantity, GETDATE());\r\n",
                "\r\n",
                "            COMMIT TRANSACTION\r\n",
                "        END TRY\r\n",
                "    BEGIN CATCH\r\n",
                "        ROLLBACK TRANSACTION\r\n",
                "    END CATCH\r\n",
                "END\r\n",
                "GO"
            ],
            "metadata": {
                "language": "sql",
                "azdata_cell_guid": "6494d874-e1ac-4d1a-8eee-9272461a65fe",
                "tags": []
            },
            "outputs": [
                {
                    "output_type": "display_data",
                    "data": {
                        "text/html": "Commands completed successfully."
                    },
                    "metadata": {}
                },
                {
                    "output_type": "display_data",
                    "data": {
                        "text/html": "Total execution time: 00:00:00.006"
                    },
                    "metadata": {}
                }
            ],
            "execution_count": 209
        },
        {
            "cell_type": "code",
            "source": [
                "EXEC [dbo].[spOrderItems]\r\n",
                "@ClientId = 1,\r\n",
                "@ProductId = 3,\r\n",
                "@Quantity = 3\r\n",
                "GO\r\n",
                "Select * FROM Products\r\n",
                "Select * FROM Orders\r\n",
                "\r\n",
                "-- It works, but it is not done the right way?"
            ],
            "metadata": {
                "language": "sql",
                "azdata_cell_guid": "36b39017-b05a-4fb6-b108-467cffb4fe89"
            },
            "outputs": [
                {
                    "output_type": "display_data",
                    "data": {
                        "text/html": "(1 row affected)"
                    },
                    "metadata": {}
                },
                {
                    "output_type": "display_data",
                    "data": {
                        "text/html": "(1 row affected)"
                    },
                    "metadata": {}
                },
                {
                    "output_type": "display_data",
                    "data": {
                        "text/html": "(10 rows affected)"
                    },
                    "metadata": {}
                },
                {
                    "output_type": "display_data",
                    "data": {
                        "text/html": "(4 rows affected)"
                    },
                    "metadata": {}
                },
                {
                    "output_type": "display_data",
                    "data": {
                        "text/html": "Total execution time: 00:00:00.015"
                    },
                    "metadata": {}
                },
                {
                    "output_type": "execute_result",
                    "metadata": {},
                    "execution_count": 218,
                    "data": {
                        "application/vnd.dataresource+json": {
                            "schema": {
                                "fields": [
                                    {
                                        "name": "ProductId"
                                    },
                                    {
                                        "name": "ProductName"
                                    },
                                    {
                                        "name": "Price"
                                    },
                                    {
                                        "name": "Quantity"
                                    }
                                ]
                            },
                            "data": [
                                {
                                    "ProductId": "1",
                                    "ProductName": "Door",
                                    "Price": "200.00",
                                    "Quantity": "0"
                                },
                                {
                                    "ProductId": "2",
                                    "ProductName": "Sofa",
                                    "Price": "300.00",
                                    "Quantity": "10"
                                },
                                {
                                    "ProductId": "3",
                                    "ProductName": "TV",
                                    "Price": "1000.00",
                                    "Quantity": "2"
                                },
                                {
                                    "ProductId": "4",
                                    "ProductName": "Chair",
                                    "Price": "50.00",
                                    "Quantity": "10"
                                },
                                {
                                    "ProductId": "5",
                                    "ProductName": "Table",
                                    "Price": "150.00",
                                    "Quantity": "10"
                                },
                                {
                                    "ProductId": "6",
                                    "ProductName": "Plate",
                                    "Price": "50.00",
                                    "Quantity": "10"
                                },
                                {
                                    "ProductId": "7",
                                    "ProductName": "Fork",
                                    "Price": "10.00",
                                    "Quantity": "10"
                                },
                                {
                                    "ProductId": "8",
                                    "ProductName": "Knife",
                                    "Price": "10.00",
                                    "Quantity": "10"
                                },
                                {
                                    "ProductId": "9",
                                    "ProductName": "Spoon",
                                    "Price": "10.00",
                                    "Quantity": "10"
                                },
                                {
                                    "ProductId": "10",
                                    "ProductName": "Glass",
                                    "Price": "20.00",
                                    "Quantity": "10"
                                }
                            ]
                        },
                        "text/html": [
                            "<table>",
                            "<tr><th>ProductId</th><th>ProductName</th><th>Price</th><th>Quantity</th></tr>",
                            "<tr><td>1</td><td>Door</td><td>200.00</td><td>0</td></tr>",
                            "<tr><td>2</td><td>Sofa</td><td>300.00</td><td>10</td></tr>",
                            "<tr><td>3</td><td>TV</td><td>1000.00</td><td>2</td></tr>",
                            "<tr><td>4</td><td>Chair</td><td>50.00</td><td>10</td></tr>",
                            "<tr><td>5</td><td>Table</td><td>150.00</td><td>10</td></tr>",
                            "<tr><td>6</td><td>Plate</td><td>50.00</td><td>10</td></tr>",
                            "<tr><td>7</td><td>Fork</td><td>10.00</td><td>10</td></tr>",
                            "<tr><td>8</td><td>Knife</td><td>10.00</td><td>10</td></tr>",
                            "<tr><td>9</td><td>Spoon</td><td>10.00</td><td>10</td></tr>",
                            "<tr><td>10</td><td>Glass</td><td>20.00</td><td>10</td></tr>",
                            "</table>"
                        ]
                    }
                },
                {
                    "output_type": "execute_result",
                    "metadata": {},
                    "execution_count": 218,
                    "data": {
                        "application/vnd.dataresource+json": {
                            "schema": {
                                "fields": [
                                    {
                                        "name": "OrdersId"
                                    },
                                    {
                                        "name": "ClientId"
                                    },
                                    {
                                        "name": "ProductId"
                                    },
                                    {
                                        "name": "Amount"
                                    },
                                    {
                                        "name": "OrderDate"
                                    }
                                ]
                            },
                            "data": [
                                {
                                    "OrdersId": "1",
                                    "ClientId": "1",
                                    "ProductId": "1",
                                    "Amount": "5",
                                    "OrderDate": "2023-09-14"
                                },
                                {
                                    "OrdersId": "2",
                                    "ClientId": "1",
                                    "ProductId": "1",
                                    "Amount": "5",
                                    "OrderDate": "2023-09-14"
                                },
                                {
                                    "OrdersId": "3",
                                    "ClientId": "1",
                                    "ProductId": "3",
                                    "Amount": "5",
                                    "OrderDate": "2023-09-14"
                                },
                                {
                                    "OrdersId": "4",
                                    "ClientId": "1",
                                    "ProductId": "3",
                                    "Amount": "3",
                                    "OrderDate": "2023-09-14"
                                }
                            ]
                        },
                        "text/html": [
                            "<table>",
                            "<tr><th>OrdersId</th><th>ClientId</th><th>ProductId</th><th>Amount</th><th>OrderDate</th></tr>",
                            "<tr><td>1</td><td>1</td><td>1</td><td>5</td><td>2023-09-14</td></tr>",
                            "<tr><td>2</td><td>1</td><td>1</td><td>5</td><td>2023-09-14</td></tr>",
                            "<tr><td>3</td><td>1</td><td>3</td><td>5</td><td>2023-09-14</td></tr>",
                            "<tr><td>4</td><td>1</td><td>3</td><td>3</td><td>2023-09-14</td></tr>",
                            "</table>"
                        ]
                    }
                }
            ],
            "execution_count": 218
        },
        {
            "cell_type": "code",
            "source": [
                "UPDATE Products\r\n",
                "SET Quantity = 10"
            ],
            "metadata": {
                "azdata_cell_guid": "45bed9ef-a8a9-42ad-ba74-eb4a33a0fbd9",
                "language": "sql",
                "tags": []
            },
            "outputs": [
                {
                    "output_type": "display_data",
                    "data": {
                        "text/html": "(10 rows affected)"
                    },
                    "metadata": {}
                },
                {
                    "output_type": "display_data",
                    "data": {
                        "text/html": "Total execution time: 00:00:00.005"
                    },
                    "metadata": {}
                }
            ],
            "execution_count": 207
        },
        {
            "cell_type": "code",
            "source": [
                "CREATE PROCEDURE spReturnItems @ClientId int, @ProductId int, @Quantity int\r\n",
                "AS\r\n",
                "BEGIN\r\n",
                "    BEGIN TRANSACTION\r\n",
                "        BEGIN TRY\r\n",
                "            IF (@Quantity < 1)\r\n",
                "            BEGIN\r\n",
                "                ROLLBACK TRANSACTION\r\n",
                "                PRINT 'Cannot return items if they do not exist???'\r\n",
                "                RETURN\r\n",
                "            END\r\n",
                "\r\n",
                "            UPDATE Products SET Quantity = Quantity + @Quantity WHERE ProductId = @ProductId\r\n",
                "\r\n",
                "            INSERT INTO Orders VALUES (@ClientId, @ProductId, -@Quantity, GETDATE());\r\n",
                "\r\n",
                "            COMMIT TRANSACTION\r\n",
                "        END TRY\r\n",
                "    BEGIN CATCH\r\n",
                "        ROLLBACK TRANSACTION\r\n",
                "    END CATCH\r\n",
                "END\r\n",
                "GO"
            ],
            "metadata": {
                "language": "sql",
                "azdata_cell_guid": "f1f26eeb-d720-4472-ae63-07893786811d"
            },
            "outputs": [
                {
                    "output_type": "display_data",
                    "data": {
                        "text/html": "Commands completed successfully."
                    },
                    "metadata": {}
                },
                {
                    "output_type": "display_data",
                    "data": {
                        "text/html": "Total execution time: 00:00:00.006"
                    },
                    "metadata": {}
                }
            ],
            "execution_count": 219
        },
        {
            "cell_type": "code",
            "source": [
                "EXEC [dbo].[spReturnItems]\r\n",
                "@ClientId = 1,\r\n",
                "@ProductId = 3,\r\n",
                "@Quantity = 3\r\n",
                "GO\r\n",
                "Select * FROM Products\r\n",
                "Select * FROM Orders\r\n",
                "\r\n",
                "-- It works, but it is not done the right way?"
            ],
            "metadata": {
                "language": "sql",
                "azdata_cell_guid": "78b45b87-e021-4384-9711-6d28e8b36a47"
            },
            "outputs": [],
            "execution_count": null
        }
    ]
}