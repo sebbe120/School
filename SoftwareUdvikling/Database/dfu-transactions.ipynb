{
    "metadata": {
        "kernelspec": {
            "name": "SQL",
            "display_name": "SQL",
            "language": "sql"
        },
        "language_info": {
            "name": "sql",
            "version": ""
        }
    },
    "nbformat_minor": 2,
    "nbformat": 4,
    "cells": [
        {
            "cell_type": "markdown",
            "source": [
                "Reset and prepare"
            ],
            "metadata": {
                "azdata_cell_guid": "5b76aad3-a366-45f6-b99b-d7d800dbe846"
            },
            "attachments": {}
        },
        {
            "cell_type": "code",
            "source": [
                "USE master;\n",
                "GO\n",
                "DROP DATABASE IF EXISTS [dfu23e_transactions];\n",
                "GO\n",
                "CREATE DATABASE [dfu23e_transactions];\n",
                "GO\n",
                "USE [dfu23e_transactions];"
            ],
            "metadata": {
                "azdata_cell_guid": "67bb4fe8-cefb-4a01-b28a-a005fa03c4ca",
                "language": "sql"
            },
            "outputs": [
                {
                    "output_type": "display_data",
                    "data": {
                        "text/html": "Query was canceled by user"
                    },
                    "metadata": {}
                },
                {
                    "output_type": "display_data",
                    "data": {
                        "text/html": "Commands completed successfully."
                    },
                    "metadata": {}
                },
                {
                    "output_type": "display_data",
                    "data": {
                        "text/html": "Commands completed successfully."
                    },
                    "metadata": {}
                },
                {
                    "output_type": "display_data",
                    "data": {
                        "text/html": "Commands completed successfully."
                    },
                    "metadata": {}
                },
                {
                    "output_type": "display_data",
                    "data": {
                        "text/html": "Total execution time: 00:00:00.348"
                    },
                    "metadata": {}
                }
            ],
            "execution_count": 35
        },
        {
            "cell_type": "markdown",
            "source": [
                "Setup tables"
            ],
            "metadata": {
                "language": "sql",
                "azdata_cell_guid": "5c415031-e8a5-4137-920d-0347f91b1989"
            },
            "attachments": {}
        },
        {
            "cell_type": "code",
            "source": [
                "CREATE TABLE Accounts (\n",
                "    AccountID INT PRIMARY KEY IDENTITY(1,1),\n",
                "    AccountNumber NVARCHAR(20) UNIQUE NOT NULL,\n",
                "    AccountHolderName NVARCHAR(100) NOT NULL,\n",
                "    Balance DECIMAL(18, 2) NOT NULL\n",
                ");\n",
                "CREATE TABLE Transactions (\n",
                "    TransactionID INT PRIMARY KEY IDENTITY(1,1),\n",
                "    SourceAccount NVARCHAR(20) NOT NULL,\n",
                "    DestinationAccount NVARCHAR(20) NOT NULL,\n",
                "    Amount DECIMAL(18, 2) NOT NULL,\n",
                "    TransactionDate DATETIME NOT NULL\n",
                ");\n",
                "GO\n",
                "\n",
                "INSERT INTO Accounts (AccountNumber, AccountHolderName, Balance)\n",
                "VALUES ('A', 'John Doe', 1000.00);\n",
                "\n",
                "INSERT INTO Accounts (AccountNumber, AccountHolderName, Balance)\n",
                "VALUES ('B', 'Jane Smith', 500.00);\n",
                ""
            ],
            "metadata": {
                "language": "sql",
                "azdata_cell_guid": "6df49b92-b642-4bf4-8682-54d0aa297892"
            },
            "outputs": [
                {
                    "output_type": "display_data",
                    "data": {
                        "text/html": "Commands completed successfully."
                    },
                    "metadata": {}
                },
                {
                    "output_type": "display_data",
                    "data": {
                        "text/html": "(1 row affected)"
                    },
                    "metadata": {}
                },
                {
                    "output_type": "display_data",
                    "data": {
                        "text/html": "(1 row affected)"
                    },
                    "metadata": {}
                },
                {
                    "output_type": "display_data",
                    "data": {
                        "text/html": "Total execution time: 00:00:00.034"
                    },
                    "metadata": {}
                }
            ],
            "execution_count": 8
        },
        {
            "cell_type": "markdown",
            "source": [
                "Transaction example"
            ],
            "metadata": {
                "language": "sql",
                "azdata_cell_guid": "970a4baa-9cff-457d-af14-6439b0a399dd"
            },
            "attachments": {}
        },
        {
            "cell_type": "code",
            "source": [
                "SELECT * FROM Accounts;\n",
                "\n",
                "BEGIN TRANSACTION;\n",
                "\n",
                "UPDATE Accounts\n",
                "SET Balance = Balance - 100\n",
                "WHERE AccountNumber = 'A';\n",
                "\n",
                "UPDATE Accounts\n",
                "SET Balance = BAlance + 100\n",
                "WHERE AccountNumber = 'B';\n",
                "\n",
                "INSERT INTO Transactions (SourceAccount, DestinationAccount, Amount, TransactionDate)\n",
                "VALUES ('A', 'B', 100, GETDATE());\n",
                "\n",
                "COMMIT TRANSACTION;\n",
                "\n",
                "SELECT * FROM Accounts;\n",
                "\n",
                "SELECT * FROM Transactions;"
            ],
            "metadata": {
                "language": "sql",
                "azdata_cell_guid": "2e098fd8-5512-4cf0-a597-d82da021ad20"
            },
            "outputs": [
                {
                    "output_type": "display_data",
                    "data": {
                        "text/html": "(2 rows affected)"
                    },
                    "metadata": {}
                },
                {
                    "output_type": "display_data",
                    "data": {
                        "text/html": "(1 row affected)"
                    },
                    "metadata": {}
                },
                {
                    "output_type": "display_data",
                    "data": {
                        "text/html": "(1 row affected)"
                    },
                    "metadata": {}
                },
                {
                    "output_type": "display_data",
                    "data": {
                        "text/html": "(1 row affected)"
                    },
                    "metadata": {}
                },
                {
                    "output_type": "display_data",
                    "data": {
                        "text/html": "(2 rows affected)"
                    },
                    "metadata": {}
                },
                {
                    "output_type": "display_data",
                    "data": {
                        "text/html": "(4 rows affected)"
                    },
                    "metadata": {}
                },
                {
                    "output_type": "display_data",
                    "data": {
                        "text/html": "Total execution time: 00:00:00.014"
                    },
                    "metadata": {}
                },
                {
                    "output_type": "execute_result",
                    "execution_count": 8,
                    "data": {
                        "application/vnd.dataresource+json": {
                            "schema": {
                                "fields": [
                                    {
                                        "name": "AccountID"
                                    },
                                    {
                                        "name": "AccountNumber"
                                    },
                                    {
                                        "name": "AccountHolderName"
                                    },
                                    {
                                        "name": "Balance"
                                    }
                                ]
                            },
                            "data": [
                                {
                                    "AccountID": "1",
                                    "AccountNumber": "A",
                                    "AccountHolderName": "John Doe",
                                    "Balance": "700.00"
                                },
                                {
                                    "AccountID": "2",
                                    "AccountNumber": "B",
                                    "AccountHolderName": "Jane Smith",
                                    "Balance": "800.00"
                                }
                            ]
                        },
                        "text/html": "<table><tr><th>AccountID</th><th>AccountNumber</th><th>AccountHolderName</th><th>Balance</th></tr><tr><td>1</td><td>A</td><td>John Doe</td><td>700.00</td></tr><tr><td>2</td><td>B</td><td>Jane Smith</td><td>800.00</td></tr></table>"
                    },
                    "metadata": {}
                },
                {
                    "output_type": "execute_result",
                    "execution_count": 8,
                    "data": {
                        "application/vnd.dataresource+json": {
                            "schema": {
                                "fields": [
                                    {
                                        "name": "AccountID"
                                    },
                                    {
                                        "name": "AccountNumber"
                                    },
                                    {
                                        "name": "AccountHolderName"
                                    },
                                    {
                                        "name": "Balance"
                                    }
                                ]
                            },
                            "data": [
                                {
                                    "AccountID": "1",
                                    "AccountNumber": "A",
                                    "AccountHolderName": "John Doe",
                                    "Balance": "600.00"
                                },
                                {
                                    "AccountID": "2",
                                    "AccountNumber": "B",
                                    "AccountHolderName": "Jane Smith",
                                    "Balance": "900.00"
                                }
                            ]
                        },
                        "text/html": "<table><tr><th>AccountID</th><th>AccountNumber</th><th>AccountHolderName</th><th>Balance</th></tr><tr><td>1</td><td>A</td><td>John Doe</td><td>600.00</td></tr><tr><td>2</td><td>B</td><td>Jane Smith</td><td>900.00</td></tr></table>"
                    },
                    "metadata": {}
                },
                {
                    "output_type": "execute_result",
                    "execution_count": 8,
                    "data": {
                        "application/vnd.dataresource+json": {
                            "schema": {
                                "fields": [
                                    {
                                        "name": "TransactionID"
                                    },
                                    {
                                        "name": "SourceAccount"
                                    },
                                    {
                                        "name": "DestinationAccount"
                                    },
                                    {
                                        "name": "Amount"
                                    },
                                    {
                                        "name": "TransactionDate"
                                    }
                                ]
                            },
                            "data": [
                                {
                                    "TransactionID": "1",
                                    "SourceAccount": "A",
                                    "DestinationAccount": "B",
                                    "Amount": "100.00",
                                    "TransactionDate": "2023-09-12 18:40:01.713"
                                },
                                {
                                    "TransactionID": "2",
                                    "SourceAccount": "A",
                                    "DestinationAccount": "B",
                                    "Amount": "100.00",
                                    "TransactionDate": "2023-09-12 18:40:25.160"
                                },
                                {
                                    "TransactionID": "3",
                                    "SourceAccount": "A",
                                    "DestinationAccount": "B",
                                    "Amount": "100.00",
                                    "TransactionDate": "2023-09-12 18:40:41.403"
                                },
                                {
                                    "TransactionID": "4",
                                    "SourceAccount": "A",
                                    "DestinationAccount": "B",
                                    "Amount": "100.00",
                                    "TransactionDate": "2023-09-12 18:40:59.040"
                                }
                            ]
                        },
                        "text/html": "<table><tr><th>TransactionID</th><th>SourceAccount</th><th>DestinationAccount</th><th>Amount</th><th>TransactionDate</th></tr><tr><td>1</td><td>A</td><td>B</td><td>100.00</td><td>2023-09-12 18:40:01.713</td></tr><tr><td>2</td><td>A</td><td>B</td><td>100.00</td><td>2023-09-12 18:40:25.160</td></tr><tr><td>3</td><td>A</td><td>B</td><td>100.00</td><td>2023-09-12 18:40:41.403</td></tr><tr><td>4</td><td>A</td><td>B</td><td>100.00</td><td>2023-09-12 18:40:59.040</td></tr></table>"
                    },
                    "metadata": {}
                }
            ],
            "execution_count": 8
        },
        {
            "cell_type": "markdown",
            "source": [
                "Prepare example with error"
            ],
            "metadata": {
                "language": "sql",
                "azdata_cell_guid": "106c5254-a37f-47f5-823d-0e873a457dd1"
            },
            "attachments": {}
        },
        {
            "cell_type": "code",
            "source": [
                "UPDATE Accounts SET Balance = 110 WHERE AccountNumber = 'A';"
            ],
            "metadata": {
                "azdata_cell_guid": "c0b23cc2-4814-41a6-8335-ad457e97cafe",
                "language": "sql"
            },
            "outputs": [
                {
                    "output_type": "display_data",
                    "data": {
                        "text/html": "(1 row affected)"
                    },
                    "metadata": {}
                },
                {
                    "output_type": "display_data",
                    "data": {
                        "text/html": "Total execution time: 00:00:00.008"
                    },
                    "metadata": {}
                }
            ],
            "execution_count": 32
        },
        {
            "cell_type": "markdown",
            "source": [
                "Example, with possible error"
            ],
            "metadata": {
                "azdata_cell_guid": "1cd48051-026c-4c01-824d-6b28f3b16708"
            },
            "attachments": {}
        },
        {
            "cell_type": "code",
            "source": [
                "SELECT * FROM Accounts;\n",
                "\n",
                "BEGIN TRANSACTION;\n",
                "\n",
                "PRINT 'Deduct money from account A'\n",
                "DECLARE @SourceAccountBalance DECIMAL(18, 2);\n",
                "SELECT @SourceAccountBalance = Balance FROM Accounts WHERE AccountNumber = 'A';\n",
                "\n",
                "PRINT 'Check if there is enough balance in account A'\n",
                "IF @SourceAccountBalance >= 100\n",
                "BEGIN\n",
                "    UPDATE Accounts\n",
                "    SET Balance = Balance - 100\n",
                "    WHERE AccountNumber = 'A';\n",
                "\n",
                "    PRINT 'Add money to account B'\n",
                "    UPDATE Accounts\n",
                "    SET Balance = Balance + 100\n",
                "    WHERE AccountNumber = 'B';\n",
                "\n",
                "    PRINT 'Insert a record into the transactions table to track the transaction'\n",
                "    INSERT INTO Transactions (SourceAccount, DestinationAccount, Amount, TransactionDate)\n",
                "    VALUES ('A', 'B', 100, GETDATE());\n",
                "\n",
                "    COMMIT TRANSACTION;\n",
                "    PRINT 'SUCCESS: Check if everything is fine, and if so, commit the transaction'\n",
                "END\n",
                "ELSE\n",
                "BEGIN\n",
                "    ROLLBACK TRANSACTION;\n",
                "    PRINT 'ERROR: Transaction rolled back due to insufficient balance in Account A.';\n",
                "END;\n",
                "\n",
                "SELECT * FROM Accounts;\n",
                "\n",
                "SELECT * FROM Transactions;"
            ],
            "metadata": {
                "azdata_cell_guid": "c3506bfa-1029-4d5a-a1bc-30ecedb119dc",
                "language": "sql"
            },
            "outputs": [
                {
                    "output_type": "display_data",
                    "data": {
                        "text/html": "(2 rows affected)"
                    },
                    "metadata": {}
                },
                {
                    "output_type": "display_data",
                    "data": {
                        "text/html": "Deduct money from account A"
                    },
                    "metadata": {}
                },
                {
                    "output_type": "display_data",
                    "data": {
                        "text/html": "Check if there is enough balance in account A"
                    },
                    "metadata": {}
                },
                {
                    "output_type": "display_data",
                    "data": {
                        "text/html": "ERROR: Transaction rolled back due to insufficient balance in Account A."
                    },
                    "metadata": {}
                },
                {
                    "output_type": "display_data",
                    "data": {
                        "text/html": "(2 rows affected)"
                    },
                    "metadata": {}
                },
                {
                    "output_type": "display_data",
                    "data": {
                        "text/html": "(13 rows affected)"
                    },
                    "metadata": {}
                },
                {
                    "output_type": "display_data",
                    "data": {
                        "text/html": "Total execution time: 00:00:00.003"
                    },
                    "metadata": {}
                },
                {
                    "output_type": "execute_result",
                    "metadata": {},
                    "execution_count": 34,
                    "data": {
                        "application/vnd.dataresource+json": {
                            "schema": {
                                "fields": [
                                    {
                                        "name": "AccountID"
                                    },
                                    {
                                        "name": "AccountNumber"
                                    },
                                    {
                                        "name": "AccountHolderName"
                                    },
                                    {
                                        "name": "Balance"
                                    }
                                ]
                            },
                            "data": [
                                {
                                    "AccountID": "1",
                                    "AccountNumber": "A",
                                    "AccountHolderName": "John Doe",
                                    "Balance": "10.00"
                                },
                                {
                                    "AccountID": "2",
                                    "AccountNumber": "B",
                                    "AccountHolderName": "Jane Smith",
                                    "Balance": "1800.00"
                                }
                            ]
                        },
                        "text/html": [
                            "<table>",
                            "<tr><th>AccountID</th><th>AccountNumber</th><th>AccountHolderName</th><th>Balance</th></tr>",
                            "<tr><td>1</td><td>A</td><td>John Doe</td><td>10.00</td></tr>",
                            "<tr><td>2</td><td>B</td><td>Jane Smith</td><td>1800.00</td></tr>",
                            "</table>"
                        ]
                    }
                },
                {
                    "output_type": "execute_result",
                    "metadata": {},
                    "execution_count": 34,
                    "data": {
                        "application/vnd.dataresource+json": {
                            "schema": {
                                "fields": [
                                    {
                                        "name": "AccountID"
                                    },
                                    {
                                        "name": "AccountNumber"
                                    },
                                    {
                                        "name": "AccountHolderName"
                                    },
                                    {
                                        "name": "Balance"
                                    }
                                ]
                            },
                            "data": [
                                {
                                    "AccountID": "1",
                                    "AccountNumber": "A",
                                    "AccountHolderName": "John Doe",
                                    "Balance": "10.00"
                                },
                                {
                                    "AccountID": "2",
                                    "AccountNumber": "B",
                                    "AccountHolderName": "Jane Smith",
                                    "Balance": "1800.00"
                                }
                            ]
                        },
                        "text/html": [
                            "<table>",
                            "<tr><th>AccountID</th><th>AccountNumber</th><th>AccountHolderName</th><th>Balance</th></tr>",
                            "<tr><td>1</td><td>A</td><td>John Doe</td><td>10.00</td></tr>",
                            "<tr><td>2</td><td>B</td><td>Jane Smith</td><td>1800.00</td></tr>",
                            "</table>"
                        ]
                    }
                },
                {
                    "output_type": "execute_result",
                    "metadata": {},
                    "execution_count": 34,
                    "data": {
                        "application/vnd.dataresource+json": {
                            "schema": {
                                "fields": [
                                    {
                                        "name": "TransactionID"
                                    },
                                    {
                                        "name": "SourceAccount"
                                    },
                                    {
                                        "name": "DestinationAccount"
                                    },
                                    {
                                        "name": "Amount"
                                    },
                                    {
                                        "name": "TransactionDate"
                                    }
                                ]
                            },
                            "data": [
                                {
                                    "TransactionID": "1",
                                    "SourceAccount": "A",
                                    "DestinationAccount": "B",
                                    "Amount": "100.00",
                                    "TransactionDate": "2023-09-12 18:43:47.133"
                                },
                                {
                                    "TransactionID": "2",
                                    "SourceAccount": "A",
                                    "DestinationAccount": "B",
                                    "Amount": "100.00",
                                    "TransactionDate": "2023-09-12 18:44:07.333"
                                },
                                {
                                    "TransactionID": "3",
                                    "SourceAccount": "A",
                                    "DestinationAccount": "B",
                                    "Amount": "100.00",
                                    "TransactionDate": "2023-09-12 18:44:13.450"
                                },
                                {
                                    "TransactionID": "4",
                                    "SourceAccount": "A",
                                    "DestinationAccount": "B",
                                    "Amount": "100.00",
                                    "TransactionDate": "2023-09-12 18:44:15.673"
                                },
                                {
                                    "TransactionID": "5",
                                    "SourceAccount": "A",
                                    "DestinationAccount": "B",
                                    "Amount": "100.00",
                                    "TransactionDate": "2023-09-12 18:44:26.320"
                                },
                                {
                                    "TransactionID": "6",
                                    "SourceAccount": "A",
                                    "DestinationAccount": "B",
                                    "Amount": "100.00",
                                    "TransactionDate": "2023-09-12 18:44:27.267"
                                },
                                {
                                    "TransactionID": "7",
                                    "SourceAccount": "A",
                                    "DestinationAccount": "B",
                                    "Amount": "100.00",
                                    "TransactionDate": "2023-09-12 18:44:28.093"
                                },
                                {
                                    "TransactionID": "8",
                                    "SourceAccount": "A",
                                    "DestinationAccount": "B",
                                    "Amount": "100.00",
                                    "TransactionDate": "2023-09-12 18:44:28.950"
                                },
                                {
                                    "TransactionID": "9",
                                    "SourceAccount": "A",
                                    "DestinationAccount": "B",
                                    "Amount": "100.00",
                                    "TransactionDate": "2023-09-12 18:44:29.587"
                                },
                                {
                                    "TransactionID": "10",
                                    "SourceAccount": "A",
                                    "DestinationAccount": "B",
                                    "Amount": "100.00",
                                    "TransactionDate": "2023-09-12 18:44:30.323"
                                },
                                {
                                    "TransactionID": "11",
                                    "SourceAccount": "A",
                                    "DestinationAccount": "B",
                                    "Amount": "100.00",
                                    "TransactionDate": "2023-09-12 18:48:10.883"
                                },
                                {
                                    "TransactionID": "12",
                                    "SourceAccount": "A",
                                    "DestinationAccount": "B",
                                    "Amount": "100.00",
                                    "TransactionDate": "2023-09-12 18:49:04.240"
                                },
                                {
                                    "TransactionID": "13",
                                    "SourceAccount": "A",
                                    "DestinationAccount": "B",
                                    "Amount": "100.00",
                                    "TransactionDate": "2023-09-12 18:49:49.823"
                                }
                            ]
                        },
                        "text/html": [
                            "<table>",
                            "<tr><th>TransactionID</th><th>SourceAccount</th><th>DestinationAccount</th><th>Amount</th><th>TransactionDate</th></tr>",
                            "<tr><td>1</td><td>A</td><td>B</td><td>100.00</td><td>2023-09-12 18:43:47.133</td></tr>",
                            "<tr><td>2</td><td>A</td><td>B</td><td>100.00</td><td>2023-09-12 18:44:07.333</td></tr>",
                            "<tr><td>3</td><td>A</td><td>B</td><td>100.00</td><td>2023-09-12 18:44:13.450</td></tr>",
                            "<tr><td>4</td><td>A</td><td>B</td><td>100.00</td><td>2023-09-12 18:44:15.673</td></tr>",
                            "<tr><td>5</td><td>A</td><td>B</td><td>100.00</td><td>2023-09-12 18:44:26.320</td></tr>",
                            "<tr><td>6</td><td>A</td><td>B</td><td>100.00</td><td>2023-09-12 18:44:27.267</td></tr>",
                            "<tr><td>7</td><td>A</td><td>B</td><td>100.00</td><td>2023-09-12 18:44:28.093</td></tr>",
                            "<tr><td>8</td><td>A</td><td>B</td><td>100.00</td><td>2023-09-12 18:44:28.950</td></tr>",
                            "<tr><td>9</td><td>A</td><td>B</td><td>100.00</td><td>2023-09-12 18:44:29.587</td></tr>",
                            "<tr><td>10</td><td>A</td><td>B</td><td>100.00</td><td>2023-09-12 18:44:30.323</td></tr>",
                            "<tr><td>11</td><td>A</td><td>B</td><td>100.00</td><td>2023-09-12 18:48:10.883</td></tr>",
                            "<tr><td>12</td><td>A</td><td>B</td><td>100.00</td><td>2023-09-12 18:49:04.240</td></tr>",
                            "<tr><td>13</td><td>A</td><td>B</td><td>100.00</td><td>2023-09-12 18:49:49.823</td></tr>",
                            "</table>"
                        ]
                    }
                }
            ],
            "execution_count": 34
        }
    ]
}